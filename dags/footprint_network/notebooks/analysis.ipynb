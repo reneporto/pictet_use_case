{
 "cells": [
  {
   "cell_type": "markdown",
   "id": "5adbead4-9d02-4699-beb9-734c00c8ea60",
   "metadata": {},
   "source": [
    "Section 1: Setup and Data Loading"
   ]
  },
  {
   "cell_type": "code",
   "execution_count": 1,
   "id": "d0951c23",
   "metadata": {},
   "outputs": [
    {
     "name": "stdout",
     "output_type": "stream",
     "text": [
      "Data loaded successfully! 10 datasets available.\n"
     ]
    }
   ],
   "source": [
    "\"\"\"\n",
    "Global Footprint Network Data Explorer Notebook\n",
    "==============================================\n",
    "This notebook provides interactive visualization and exploration of the \n",
    "transformed Global Footprint Network data.\n",
    "\"\"\"\n",
    "import os\n",
    "import sys\n",
    "import pandas as pd\n",
    "import numpy as np\n",
    "import matplotlib.pyplot as plt\n",
    "import seaborn as sns\n",
    "from IPython.display import display, HTML\n",
    "import plotly.express as px\n",
    "import plotly.graph_objects as go\n",
    "from plotly.subplots import make_subplots\n",
    "\n",
    "# Add the parent directory to import the utils\n",
    "parent_dir = os.path.dirname(os.path.dirname(os.path.abspath(\"__file__\")))\n",
    "if parent_dir not in sys.path:\n",
    "    sys.path.append(parent_dir)\n",
    "\n",
    "# Import the transformer\n",
    "from utils.data_transformer_core import FootprintCoreTransformer\n",
    "\n",
    "# Initialize the transformer and load data\n",
    "transformer = FootprintCoreTransformer()\n",
    "all_data = transformer.run_all_core_transformations()\n",
    "\n",
    "# Extract each dataset into variables\n",
    "countries = all_data['dim_countries']\n",
    "years = all_data['dim_years']\n",
    "record_types = all_data['dim_record_types']\n",
    "measures = all_data['fact_ecological_measures']\n",
    "ecological_balance = all_data['indicator_ecological_balance']\n",
    "footprint_composition = all_data['indicator_footprint_composition']\n",
    "time_series_changes = all_data['indicator_time_series_changes']\n",
    "region_aggs = all_data.get('region_aggregations', pd.DataFrame())\n",
    "income_aggs = all_data.get('income_aggregations', pd.DataFrame())\n",
    "weighted_aggs = all_data.get('weighted_aggregations', pd.DataFrame())\n",
    "\n",
    "print(f\"Data loaded successfully! {len(all_data)} datasets available.\")"
   ]
  },
  {
   "cell_type": "markdown",
   "id": "72dabfa5-49d8-47c5-9551-d66dfedee30e",
   "metadata": {},
   "source": [
    "Section 2: Dataset Overview"
   ]
  },
  {
   "cell_type": "code",
   "execution_count": 2,
   "id": "cb35fe7c-18ae-436a-b60f-38186ac79919",
   "metadata": {},
   "outputs": [
    {
     "name": "stdout",
     "output_type": "stream",
     "text": [
      "\n",
      "=== dim_countries ===\n",
      "Shape: (271, 9)\n",
      "Columns: ['score', 'short_name', 'country_code', 'country_name', 'iso_a2', 'processed_at', 'region', 'income_group', 'transformed_at']\n"
     ]
    },
    {
     "data": {
      "text/html": [
       "<div>\n",
       "<style scoped>\n",
       "    .dataframe tbody tr th:only-of-type {\n",
       "        vertical-align: middle;\n",
       "    }\n",
       "\n",
       "    .dataframe tbody tr th {\n",
       "        vertical-align: top;\n",
       "    }\n",
       "\n",
       "    .dataframe thead th {\n",
       "        text-align: right;\n",
       "    }\n",
       "</style>\n",
       "<table border=\"1\" class=\"dataframe\">\n",
       "  <thead>\n",
       "    <tr style=\"text-align: right;\">\n",
       "      <th></th>\n",
       "      <th>score</th>\n",
       "      <th>short_name</th>\n",
       "      <th>country_code</th>\n",
       "      <th>country_name</th>\n",
       "      <th>iso_a2</th>\n",
       "      <th>processed_at</th>\n",
       "      <th>region</th>\n",
       "      <th>income_group</th>\n",
       "      <th>transformed_at</th>\n",
       "    </tr>\n",
       "  </thead>\n",
       "  <tbody>\n",
       "    <tr>\n",
       "      <th>0</th>\n",
       "      <td>3A</td>\n",
       "      <td>Armenia</td>\n",
       "      <td>1</td>\n",
       "      <td>Armenia</td>\n",
       "      <td>AM</td>\n",
       "      <td>2025-07-05 14:41:02.536922</td>\n",
       "      <td>Unknown</td>\n",
       "      <td>Unknown</td>\n",
       "      <td>2025-07-05 14:41:02.584818</td>\n",
       "    </tr>\n",
       "    <tr>\n",
       "      <th>1</th>\n",
       "      <td>3A</td>\n",
       "      <td>Afghanistan</td>\n",
       "      <td>2</td>\n",
       "      <td>Afghanistan</td>\n",
       "      <td>AF</td>\n",
       "      <td>2025-07-05 14:41:02.536922</td>\n",
       "      <td>Unknown</td>\n",
       "      <td>Unknown</td>\n",
       "      <td>2025-07-05 14:41:02.584818</td>\n",
       "    </tr>\n",
       "    <tr>\n",
       "      <th>2</th>\n",
       "      <td>3A</td>\n",
       "      <td>Albania</td>\n",
       "      <td>3</td>\n",
       "      <td>Albania</td>\n",
       "      <td>AL</td>\n",
       "      <td>2025-07-05 14:41:02.536922</td>\n",
       "      <td>Unknown</td>\n",
       "      <td>Unknown</td>\n",
       "      <td>2025-07-05 14:41:02.584818</td>\n",
       "    </tr>\n",
       "  </tbody>\n",
       "</table>\n",
       "</div>"
      ],
      "text/plain": [
       "  score   short_name country_code country_name iso_a2  \\\n",
       "0    3A      Armenia            1      Armenia     AM   \n",
       "1    3A  Afghanistan            2  Afghanistan     AF   \n",
       "2    3A      Albania            3      Albania     AL   \n",
       "\n",
       "                processed_at   region income_group             transformed_at  \n",
       "0 2025-07-05 14:41:02.536922  Unknown      Unknown 2025-07-05 14:41:02.584818  \n",
       "1 2025-07-05 14:41:02.536922  Unknown      Unknown 2025-07-05 14:41:02.584818  \n",
       "2 2025-07-05 14:41:02.536922  Unknown      Unknown 2025-07-05 14:41:02.584818  "
      ]
     },
     "metadata": {},
     "output_type": "display_data"
    },
    {
     "name": "stdout",
     "output_type": "stream",
     "text": [
      "--------------------------------------------------------------------------------\n",
      "\n",
      "=== dim_years ===\n",
      "Shape: (64, 6)\n",
      "Columns: ['year', 'processed_at', 'decade', 'start_date', 'end_date', 'transformed_at']\n"
     ]
    },
    {
     "data": {
      "text/html": [
       "<div>\n",
       "<style scoped>\n",
       "    .dataframe tbody tr th:only-of-type {\n",
       "        vertical-align: middle;\n",
       "    }\n",
       "\n",
       "    .dataframe tbody tr th {\n",
       "        vertical-align: top;\n",
       "    }\n",
       "\n",
       "    .dataframe thead th {\n",
       "        text-align: right;\n",
       "    }\n",
       "</style>\n",
       "<table border=\"1\" class=\"dataframe\">\n",
       "  <thead>\n",
       "    <tr style=\"text-align: right;\">\n",
       "      <th></th>\n",
       "      <th>year</th>\n",
       "      <th>processed_at</th>\n",
       "      <th>decade</th>\n",
       "      <th>start_date</th>\n",
       "      <th>end_date</th>\n",
       "      <th>transformed_at</th>\n",
       "    </tr>\n",
       "  </thead>\n",
       "  <tbody>\n",
       "    <tr>\n",
       "      <th>0</th>\n",
       "      <td>2024</td>\n",
       "      <td>2025-07-05 14:41:02.589467</td>\n",
       "      <td>2020</td>\n",
       "      <td>2024-01-01</td>\n",
       "      <td>2024-12-31</td>\n",
       "      <td>2025-07-05 14:41:02.594062</td>\n",
       "    </tr>\n",
       "    <tr>\n",
       "      <th>1</th>\n",
       "      <td>2023</td>\n",
       "      <td>2025-07-05 14:41:02.589467</td>\n",
       "      <td>2020</td>\n",
       "      <td>2023-01-01</td>\n",
       "      <td>2023-12-31</td>\n",
       "      <td>2025-07-05 14:41:02.594062</td>\n",
       "    </tr>\n",
       "    <tr>\n",
       "      <th>2</th>\n",
       "      <td>2022</td>\n",
       "      <td>2025-07-05 14:41:02.589467</td>\n",
       "      <td>2020</td>\n",
       "      <td>2022-01-01</td>\n",
       "      <td>2022-12-31</td>\n",
       "      <td>2025-07-05 14:41:02.594062</td>\n",
       "    </tr>\n",
       "  </tbody>\n",
       "</table>\n",
       "</div>"
      ],
      "text/plain": [
       "   year               processed_at  decade start_date   end_date  \\\n",
       "0  2024 2025-07-05 14:41:02.589467    2020 2024-01-01 2024-12-31   \n",
       "1  2023 2025-07-05 14:41:02.589467    2020 2023-01-01 2023-12-31   \n",
       "2  2022 2025-07-05 14:41:02.589467    2020 2022-01-01 2022-12-31   \n",
       "\n",
       "              transformed_at  \n",
       "0 2025-07-05 14:41:02.594062  \n",
       "1 2025-07-05 14:41:02.594062  \n",
       "2 2025-07-05 14:41:02.594062  "
      ]
     },
     "metadata": {},
     "output_type": "display_data"
    },
    {
     "name": "stdout",
     "output_type": "stream",
     "text": [
      "--------------------------------------------------------------------------------\n",
      "\n",
      "=== dim_record_types ===\n",
      "Shape: (7, 7)\n",
      "Columns: ['name', 'note', 'code', 'record', 'processed_at', 'category', 'transformed_at']\n"
     ]
    },
    {
     "data": {
      "text/html": [
       "<div>\n",
       "<style scoped>\n",
       "    .dataframe tbody tr th:only-of-type {\n",
       "        vertical-align: middle;\n",
       "    }\n",
       "\n",
       "    .dataframe tbody tr th {\n",
       "        vertical-align: top;\n",
       "    }\n",
       "\n",
       "    .dataframe thead th {\n",
       "        text-align: right;\n",
       "    }\n",
       "</style>\n",
       "<table border=\"1\" class=\"dataframe\">\n",
       "  <thead>\n",
       "    <tr style=\"text-align: right;\">\n",
       "      <th></th>\n",
       "      <th>name</th>\n",
       "      <th>note</th>\n",
       "      <th>code</th>\n",
       "      <th>record</th>\n",
       "      <th>processed_at</th>\n",
       "      <th>category</th>\n",
       "      <th>transformed_at</th>\n",
       "    </tr>\n",
       "  </thead>\n",
       "  <tbody>\n",
       "    <tr>\n",
       "      <th>0</th>\n",
       "      <td>Biocapacity per person</td>\n",
       "      <td>Biocapacity divided by population in global he...</td>\n",
       "      <td>BCpc</td>\n",
       "      <td>BiocapPerCap</td>\n",
       "      <td>2025-07-05 14:41:02.595056</td>\n",
       "      <td>Biocapacity</td>\n",
       "      <td>2025-07-05 14:41:02.597026</td>\n",
       "    </tr>\n",
       "    <tr>\n",
       "      <th>1</th>\n",
       "      <td>Biocapacity</td>\n",
       "      <td>Total biocapacity in global hectares (gha)</td>\n",
       "      <td>BCtot</td>\n",
       "      <td>BiocapTotGHA</td>\n",
       "      <td>2025-07-05 14:41:02.595056</td>\n",
       "      <td>Other</td>\n",
       "      <td>2025-07-05 14:41:02.597026</td>\n",
       "    </tr>\n",
       "    <tr>\n",
       "      <th>2</th>\n",
       "      <td>Ecological Footprint per person</td>\n",
       "      <td>Ecological Footprint of consumption in global ...</td>\n",
       "      <td>EFCpc</td>\n",
       "      <td>EFConsPerCap</td>\n",
       "      <td>2025-07-05 14:41:02.595056</td>\n",
       "      <td>Other</td>\n",
       "      <td>2025-07-05 14:41:02.597026</td>\n",
       "    </tr>\n",
       "  </tbody>\n",
       "</table>\n",
       "</div>"
      ],
      "text/plain": [
       "                              name  \\\n",
       "0           Biocapacity per person   \n",
       "1                      Biocapacity   \n",
       "2  Ecological Footprint per person   \n",
       "\n",
       "                                                note   code        record  \\\n",
       "0  Biocapacity divided by population in global he...   BCpc  BiocapPerCap   \n",
       "1         Total biocapacity in global hectares (gha)  BCtot  BiocapTotGHA   \n",
       "2  Ecological Footprint of consumption in global ...  EFCpc  EFConsPerCap   \n",
       "\n",
       "                processed_at     category             transformed_at  \n",
       "0 2025-07-05 14:41:02.595056  Biocapacity 2025-07-05 14:41:02.597026  \n",
       "1 2025-07-05 14:41:02.595056        Other 2025-07-05 14:41:02.597026  \n",
       "2 2025-07-05 14:41:02.595056        Other 2025-07-05 14:41:02.597026  "
      ]
     },
     "metadata": {},
     "output_type": "display_data"
    },
    {
     "name": "stdout",
     "output_type": "stream",
     "text": [
      "--------------------------------------------------------------------------------\n",
      "\n",
      "=== fact_ecological_measures ===\n",
      "Shape: (3254, 16)\n",
      "Columns: ['year', 'country_code', 'country_name_orig', 'short_name_orig', 'iso_a2_orig', 'record', 'crop_land', 'grazing_land', 'forest_land', 'fishing_ground', 'builtup_land', 'carbon', 'value', 'score', 'processed_at', 'transformed_at']\n"
     ]
    },
    {
     "data": {
      "text/html": [
       "<div>\n",
       "<style scoped>\n",
       "    .dataframe tbody tr th:only-of-type {\n",
       "        vertical-align: middle;\n",
       "    }\n",
       "\n",
       "    .dataframe tbody tr th {\n",
       "        vertical-align: top;\n",
       "    }\n",
       "\n",
       "    .dataframe thead th {\n",
       "        text-align: right;\n",
       "    }\n",
       "</style>\n",
       "<table border=\"1\" class=\"dataframe\">\n",
       "  <thead>\n",
       "    <tr style=\"text-align: right;\">\n",
       "      <th></th>\n",
       "      <th>year</th>\n",
       "      <th>country_code</th>\n",
       "      <th>country_name_orig</th>\n",
       "      <th>short_name_orig</th>\n",
       "      <th>iso_a2_orig</th>\n",
       "      <th>record</th>\n",
       "      <th>crop_land</th>\n",
       "      <th>grazing_land</th>\n",
       "      <th>forest_land</th>\n",
       "      <th>fishing_ground</th>\n",
       "      <th>builtup_land</th>\n",
       "      <th>carbon</th>\n",
       "      <th>value</th>\n",
       "      <th>score</th>\n",
       "      <th>processed_at</th>\n",
       "      <th>transformed_at</th>\n",
       "    </tr>\n",
       "  </thead>\n",
       "  <tbody>\n",
       "    <tr>\n",
       "      <th>0</th>\n",
       "      <td>2022</td>\n",
       "      <td>1</td>\n",
       "      <td>Armenia</td>\n",
       "      <td>Armenia</td>\n",
       "      <td>AM</td>\n",
       "      <td>AreaPerCap</td>\n",
       "      <td>0.181164</td>\n",
       "      <td>4.211878e-01</td>\n",
       "      <td>0.118059</td>\n",
       "      <td>0.045676</td>\n",
       "      <td>0.028404</td>\n",
       "      <td>0.0</td>\n",
       "      <td>7.944907e-01</td>\n",
       "      <td>3A</td>\n",
       "      <td>2025-07-05 14:41:02.647178</td>\n",
       "      <td>2025-07-05 14:41:02.655417</td>\n",
       "    </tr>\n",
       "    <tr>\n",
       "      <th>1</th>\n",
       "      <td>2022</td>\n",
       "      <td>1</td>\n",
       "      <td>Armenia</td>\n",
       "      <td>Armenia</td>\n",
       "      <td>AM</td>\n",
       "      <td>AreaTotHA</td>\n",
       "      <td>503720.000000</td>\n",
       "      <td>1.171100e+06</td>\n",
       "      <td>328260.000000</td>\n",
       "      <td>127000.000000</td>\n",
       "      <td>78977.600098</td>\n",
       "      <td>0.0</td>\n",
       "      <td>2.209058e+06</td>\n",
       "      <td>3A</td>\n",
       "      <td>2025-07-05 14:41:02.647178</td>\n",
       "      <td>2025-07-05 14:41:02.655417</td>\n",
       "    </tr>\n",
       "    <tr>\n",
       "      <th>2</th>\n",
       "      <td>2022</td>\n",
       "      <td>1</td>\n",
       "      <td>Armenia</td>\n",
       "      <td>Armenia</td>\n",
       "      <td>AM</td>\n",
       "      <td>BiocapPerCap</td>\n",
       "      <td>0.405770</td>\n",
       "      <td>2.785527e-01</td>\n",
       "      <td>0.100977</td>\n",
       "      <td>0.016602</td>\n",
       "      <td>0.026953</td>\n",
       "      <td>0.0</td>\n",
       "      <td>8.288541e-01</td>\n",
       "      <td>3A</td>\n",
       "      <td>2025-07-05 14:41:02.647178</td>\n",
       "      <td>2025-07-05 14:41:02.655417</td>\n",
       "    </tr>\n",
       "  </tbody>\n",
       "</table>\n",
       "</div>"
      ],
      "text/plain": [
       "   year country_code country_name_orig short_name_orig iso_a2_orig  \\\n",
       "0  2022            1           Armenia         Armenia          AM   \n",
       "1  2022            1           Armenia         Armenia          AM   \n",
       "2  2022            1           Armenia         Armenia          AM   \n",
       "\n",
       "         record      crop_land  grazing_land    forest_land  fishing_ground  \\\n",
       "0    AreaPerCap       0.181164  4.211878e-01       0.118059        0.045676   \n",
       "1     AreaTotHA  503720.000000  1.171100e+06  328260.000000   127000.000000   \n",
       "2  BiocapPerCap       0.405770  2.785527e-01       0.100977        0.016602   \n",
       "\n",
       "   builtup_land  carbon         value score               processed_at  \\\n",
       "0      0.028404     0.0  7.944907e-01    3A 2025-07-05 14:41:02.647178   \n",
       "1  78977.600098     0.0  2.209058e+06    3A 2025-07-05 14:41:02.647178   \n",
       "2      0.026953     0.0  8.288541e-01    3A 2025-07-05 14:41:02.647178   \n",
       "\n",
       "              transformed_at  \n",
       "0 2025-07-05 14:41:02.655417  \n",
       "1 2025-07-05 14:41:02.655417  \n",
       "2 2025-07-05 14:41:02.655417  "
      ]
     },
     "metadata": {},
     "output_type": "display_data"
    },
    {
     "name": "stdout",
     "output_type": "stream",
     "text": [
      "--------------------------------------------------------------------------------\n",
      "\n",
      "=== indicator_ecological_balance ===\n",
      "Shape: (188, 11)\n",
      "Columns: ['country_code', 'year', 'biocapacity', 'footprint', 'ecological_balance', 'ecological_ratio', 'is_deficit', 'country_name', 'region', 'income_group', 'transformed_at']\n"
     ]
    },
    {
     "data": {
      "text/html": [
       "<div>\n",
       "<style scoped>\n",
       "    .dataframe tbody tr th:only-of-type {\n",
       "        vertical-align: middle;\n",
       "    }\n",
       "\n",
       "    .dataframe tbody tr th {\n",
       "        vertical-align: top;\n",
       "    }\n",
       "\n",
       "    .dataframe thead th {\n",
       "        text-align: right;\n",
       "    }\n",
       "</style>\n",
       "<table border=\"1\" class=\"dataframe\">\n",
       "  <thead>\n",
       "    <tr style=\"text-align: right;\">\n",
       "      <th></th>\n",
       "      <th>country_code</th>\n",
       "      <th>year</th>\n",
       "      <th>biocapacity</th>\n",
       "      <th>footprint</th>\n",
       "      <th>ecological_balance</th>\n",
       "      <th>ecological_ratio</th>\n",
       "      <th>is_deficit</th>\n",
       "      <th>country_name</th>\n",
       "      <th>region</th>\n",
       "      <th>income_group</th>\n",
       "      <th>transformed_at</th>\n",
       "    </tr>\n",
       "  </thead>\n",
       "  <tbody>\n",
       "    <tr>\n",
       "      <th>0</th>\n",
       "      <td>1</td>\n",
       "      <td>2022</td>\n",
       "      <td>0.828854</td>\n",
       "      <td>2.625351</td>\n",
       "      <td>-1.796497</td>\n",
       "      <td>0.315712</td>\n",
       "      <td>True</td>\n",
       "      <td>Armenia</td>\n",
       "      <td>Unknown</td>\n",
       "      <td>Unknown</td>\n",
       "      <td>2025-07-05 14:41:02.663969</td>\n",
       "    </tr>\n",
       "    <tr>\n",
       "      <th>1</th>\n",
       "      <td>10</td>\n",
       "      <td>2022</td>\n",
       "      <td>12.251614</td>\n",
       "      <td>7.307172</td>\n",
       "      <td>4.944441</td>\n",
       "      <td>1.676656</td>\n",
       "      <td>False</td>\n",
       "      <td>Australia</td>\n",
       "      <td>Unknown</td>\n",
       "      <td>Unknown</td>\n",
       "      <td>2025-07-05 14:41:02.663969</td>\n",
       "    </tr>\n",
       "    <tr>\n",
       "      <th>2</th>\n",
       "      <td>100</td>\n",
       "      <td>2022</td>\n",
       "      <td>0.329423</td>\n",
       "      <td>1.106209</td>\n",
       "      <td>-0.776786</td>\n",
       "      <td>0.297795</td>\n",
       "      <td>True</td>\n",
       "      <td>India</td>\n",
       "      <td>Unknown</td>\n",
       "      <td>Unknown</td>\n",
       "      <td>2025-07-05 14:41:02.663969</td>\n",
       "    </tr>\n",
       "  </tbody>\n",
       "</table>\n",
       "</div>"
      ],
      "text/plain": [
       "  country_code  year  biocapacity  footprint  ecological_balance  \\\n",
       "0            1  2022     0.828854   2.625351           -1.796497   \n",
       "1           10  2022    12.251614   7.307172            4.944441   \n",
       "2          100  2022     0.329423   1.106209           -0.776786   \n",
       "\n",
       "   ecological_ratio  is_deficit country_name   region income_group  \\\n",
       "0          0.315712        True      Armenia  Unknown      Unknown   \n",
       "1          1.676656       False    Australia  Unknown      Unknown   \n",
       "2          0.297795        True        India  Unknown      Unknown   \n",
       "\n",
       "              transformed_at  \n",
       "0 2025-07-05 14:41:02.663969  \n",
       "1 2025-07-05 14:41:02.663969  \n",
       "2 2025-07-05 14:41:02.663969  "
      ]
     },
     "metadata": {},
     "output_type": "display_data"
    },
    {
     "name": "stdout",
     "output_type": "stream",
     "text": [
      "--------------------------------------------------------------------------------\n",
      "\n",
      "=== indicator_footprint_composition ===\n",
      "Shape: (187, 23)\n",
      "Columns: ['year', 'country_code', 'country_name_orig', 'short_name_orig', 'iso_a2_orig', 'record', 'crop_land', 'grazing_land', 'forest_land', 'fishing_ground', 'builtup_land', 'carbon', 'value', 'score', 'processed_at', 'transformed_at', 'crop_land_pct', 'grazing_land_pct', 'forest_land_pct', 'fishing_ground_pct', 'builtup_land_pct', 'carbon_pct', 'carbon_dependency']\n"
     ]
    },
    {
     "data": {
      "text/html": [
       "<div>\n",
       "<style scoped>\n",
       "    .dataframe tbody tr th:only-of-type {\n",
       "        vertical-align: middle;\n",
       "    }\n",
       "\n",
       "    .dataframe tbody tr th {\n",
       "        vertical-align: top;\n",
       "    }\n",
       "\n",
       "    .dataframe thead th {\n",
       "        text-align: right;\n",
       "    }\n",
       "</style>\n",
       "<table border=\"1\" class=\"dataframe\">\n",
       "  <thead>\n",
       "    <tr style=\"text-align: right;\">\n",
       "      <th></th>\n",
       "      <th>year</th>\n",
       "      <th>country_code</th>\n",
       "      <th>country_name_orig</th>\n",
       "      <th>short_name_orig</th>\n",
       "      <th>iso_a2_orig</th>\n",
       "      <th>record</th>\n",
       "      <th>crop_land</th>\n",
       "      <th>grazing_land</th>\n",
       "      <th>forest_land</th>\n",
       "      <th>fishing_ground</th>\n",
       "      <th>...</th>\n",
       "      <th>score</th>\n",
       "      <th>processed_at</th>\n",
       "      <th>transformed_at</th>\n",
       "      <th>crop_land_pct</th>\n",
       "      <th>grazing_land_pct</th>\n",
       "      <th>forest_land_pct</th>\n",
       "      <th>fishing_ground_pct</th>\n",
       "      <th>builtup_land_pct</th>\n",
       "      <th>carbon_pct</th>\n",
       "      <th>carbon_dependency</th>\n",
       "    </tr>\n",
       "  </thead>\n",
       "  <tbody>\n",
       "    <tr>\n",
       "      <th>5</th>\n",
       "      <td>2022</td>\n",
       "      <td>1</td>\n",
       "      <td>Armenia</td>\n",
       "      <td>Armenia</td>\n",
       "      <td>AM</td>\n",
       "      <td>EFConsPerCap</td>\n",
       "      <td>0.692195</td>\n",
       "      <td>0.242718</td>\n",
       "      <td>0.201289</td>\n",
       "      <td>0.000502</td>\n",
       "      <td>...</td>\n",
       "      <td>3A</td>\n",
       "      <td>2025-07-05 14:41:02.647178</td>\n",
       "      <td>2025-07-05 14:41:02.666736</td>\n",
       "      <td>26.365826</td>\n",
       "      <td>9.245155</td>\n",
       "      <td>7.667132</td>\n",
       "      <td>0.019116</td>\n",
       "      <td>1.026641</td>\n",
       "      <td>55.676129</td>\n",
       "      <td>55.676129</td>\n",
       "    </tr>\n",
       "    <tr>\n",
       "      <th>22</th>\n",
       "      <td>2022</td>\n",
       "      <td>2</td>\n",
       "      <td>Afghanistan</td>\n",
       "      <td>Afghanistan</td>\n",
       "      <td>AF</td>\n",
       "      <td>EFConsPerCap</td>\n",
       "      <td>0.447543</td>\n",
       "      <td>0.146037</td>\n",
       "      <td>0.054578</td>\n",
       "      <td>0.000431</td>\n",
       "      <td>...</td>\n",
       "      <td>3A</td>\n",
       "      <td>2025-07-05 14:41:02.647178</td>\n",
       "      <td>2025-07-05 14:41:02.666736</td>\n",
       "      <td>59.607958</td>\n",
       "      <td>19.450545</td>\n",
       "      <td>7.269195</td>\n",
       "      <td>0.057368</td>\n",
       "      <td>4.060500</td>\n",
       "      <td>9.554434</td>\n",
       "      <td>9.554434</td>\n",
       "    </tr>\n",
       "    <tr>\n",
       "      <th>39</th>\n",
       "      <td>2022</td>\n",
       "      <td>3</td>\n",
       "      <td>Albania</td>\n",
       "      <td>Albania</td>\n",
       "      <td>AL</td>\n",
       "      <td>EFConsPerCap</td>\n",
       "      <td>0.772176</td>\n",
       "      <td>0.279455</td>\n",
       "      <td>0.187756</td>\n",
       "      <td>0.059034</td>\n",
       "      <td>...</td>\n",
       "      <td>3A</td>\n",
       "      <td>2025-07-05 14:41:02.647178</td>\n",
       "      <td>2025-07-05 14:41:02.666736</td>\n",
       "      <td>35.472798</td>\n",
       "      <td>12.837795</td>\n",
       "      <td>8.625282</td>\n",
       "      <td>2.711949</td>\n",
       "      <td>3.049723</td>\n",
       "      <td>37.302454</td>\n",
       "      <td>37.302454</td>\n",
       "    </tr>\n",
       "  </tbody>\n",
       "</table>\n",
       "<p>3 rows × 23 columns</p>\n",
       "</div>"
      ],
      "text/plain": [
       "    year country_code country_name_orig short_name_orig iso_a2_orig  \\\n",
       "5   2022            1           Armenia         Armenia          AM   \n",
       "22  2022            2       Afghanistan     Afghanistan          AF   \n",
       "39  2022            3           Albania         Albania          AL   \n",
       "\n",
       "          record  crop_land  grazing_land  forest_land  fishing_ground  ...  \\\n",
       "5   EFConsPerCap   0.692195      0.242718     0.201289        0.000502  ...   \n",
       "22  EFConsPerCap   0.447543      0.146037     0.054578        0.000431  ...   \n",
       "39  EFConsPerCap   0.772176      0.279455     0.187756        0.059034  ...   \n",
       "\n",
       "    score               processed_at             transformed_at crop_land_pct  \\\n",
       "5      3A 2025-07-05 14:41:02.647178 2025-07-05 14:41:02.666736     26.365826   \n",
       "22     3A 2025-07-05 14:41:02.647178 2025-07-05 14:41:02.666736     59.607958   \n",
       "39     3A 2025-07-05 14:41:02.647178 2025-07-05 14:41:02.666736     35.472798   \n",
       "\n",
       "   grazing_land_pct forest_land_pct  fishing_ground_pct  builtup_land_pct  \\\n",
       "5          9.245155        7.667132            0.019116          1.026641   \n",
       "22        19.450545        7.269195            0.057368          4.060500   \n",
       "39        12.837795        8.625282            2.711949          3.049723   \n",
       "\n",
       "    carbon_pct  carbon_dependency  \n",
       "5    55.676129          55.676129  \n",
       "22    9.554434           9.554434  \n",
       "39   37.302454          37.302454  \n",
       "\n",
       "[3 rows x 23 columns]"
      ]
     },
     "metadata": {},
     "output_type": "display_data"
    },
    {
     "name": "stdout",
     "output_type": "stream",
     "text": [
      "--------------------------------------------------------------------------------\n",
      "\n",
      "=== indicator_time_series_changes ===\n",
      "Shape: (5364, 5)\n",
      "Columns: ['country_code', 'record', 'metric', 'value', 'transformed_at']\n"
     ]
    },
    {
     "data": {
      "text/html": [
       "<div>\n",
       "<style scoped>\n",
       "    .dataframe tbody tr th:only-of-type {\n",
       "        vertical-align: middle;\n",
       "    }\n",
       "\n",
       "    .dataframe tbody tr th {\n",
       "        vertical-align: top;\n",
       "    }\n",
       "\n",
       "    .dataframe thead th {\n",
       "        text-align: right;\n",
       "    }\n",
       "</style>\n",
       "<table border=\"1\" class=\"dataframe\">\n",
       "  <thead>\n",
       "    <tr style=\"text-align: right;\">\n",
       "      <th></th>\n",
       "      <th>country_code</th>\n",
       "      <th>record</th>\n",
       "      <th>metric</th>\n",
       "      <th>value</th>\n",
       "      <th>transformed_at</th>\n",
       "    </tr>\n",
       "  </thead>\n",
       "  <tbody>\n",
       "    <tr>\n",
       "      <th>0</th>\n",
       "      <td>1</td>\n",
       "      <td>BiocapPerCap</td>\n",
       "      <td>2020</td>\n",
       "      <td>NaN</td>\n",
       "      <td>2025-07-05 14:41:02.676377</td>\n",
       "    </tr>\n",
       "    <tr>\n",
       "      <th>1</th>\n",
       "      <td>1</td>\n",
       "      <td>EFConsPerCap</td>\n",
       "      <td>2020</td>\n",
       "      <td>NaN</td>\n",
       "      <td>2025-07-05 14:41:02.676377</td>\n",
       "    </tr>\n",
       "    <tr>\n",
       "      <th>2</th>\n",
       "      <td>1</td>\n",
       "      <td>Population</td>\n",
       "      <td>2020</td>\n",
       "      <td>NaN</td>\n",
       "      <td>2025-07-05 14:41:02.676377</td>\n",
       "    </tr>\n",
       "  </tbody>\n",
       "</table>\n",
       "</div>"
      ],
      "text/plain": [
       "  country_code        record metric  value             transformed_at\n",
       "0            1  BiocapPerCap   2020    NaN 2025-07-05 14:41:02.676377\n",
       "1            1  EFConsPerCap   2020    NaN 2025-07-05 14:41:02.676377\n",
       "2            1    Population   2020    NaN 2025-07-05 14:41:02.676377"
      ]
     },
     "metadata": {},
     "output_type": "display_data"
    },
    {
     "name": "stdout",
     "output_type": "stream",
     "text": [
      "--------------------------------------------------------------------------------\n",
      "\n",
      "=== region_aggregations ===\n",
      "Shape: (63, 10)\n",
      "Columns: ['region', 'year', 'record', 'value_mean', 'value_median', 'value_std', 'value_min', 'value_max', 'value_count', 'transformed_at']\n"
     ]
    },
    {
     "data": {
      "text/html": [
       "<div>\n",
       "<style scoped>\n",
       "    .dataframe tbody tr th:only-of-type {\n",
       "        vertical-align: middle;\n",
       "    }\n",
       "\n",
       "    .dataframe tbody tr th {\n",
       "        vertical-align: top;\n",
       "    }\n",
       "\n",
       "    .dataframe thead th {\n",
       "        text-align: right;\n",
       "    }\n",
       "</style>\n",
       "<table border=\"1\" class=\"dataframe\">\n",
       "  <thead>\n",
       "    <tr style=\"text-align: right;\">\n",
       "      <th></th>\n",
       "      <th>region</th>\n",
       "      <th>year</th>\n",
       "      <th>record</th>\n",
       "      <th>value_mean</th>\n",
       "      <th>value_median</th>\n",
       "      <th>value_std</th>\n",
       "      <th>value_min</th>\n",
       "      <th>value_max</th>\n",
       "      <th>value_count</th>\n",
       "      <th>transformed_at</th>\n",
       "    </tr>\n",
       "  </thead>\n",
       "  <tbody>\n",
       "    <tr>\n",
       "      <th>0</th>\n",
       "      <td>Africa</td>\n",
       "      <td>2020</td>\n",
       "      <td>BiocapPerCap</td>\n",
       "      <td>NaN</td>\n",
       "      <td>NaN</td>\n",
       "      <td>NaN</td>\n",
       "      <td>NaN</td>\n",
       "      <td>NaN</td>\n",
       "      <td>0</td>\n",
       "      <td>2025-07-05 14:41:02.694067</td>\n",
       "    </tr>\n",
       "    <tr>\n",
       "      <th>1</th>\n",
       "      <td>Africa</td>\n",
       "      <td>2020</td>\n",
       "      <td>EFConsPerCap</td>\n",
       "      <td>NaN</td>\n",
       "      <td>NaN</td>\n",
       "      <td>NaN</td>\n",
       "      <td>NaN</td>\n",
       "      <td>NaN</td>\n",
       "      <td>0</td>\n",
       "      <td>2025-07-05 14:41:02.694067</td>\n",
       "    </tr>\n",
       "    <tr>\n",
       "      <th>2</th>\n",
       "      <td>Africa</td>\n",
       "      <td>2020</td>\n",
       "      <td>Population</td>\n",
       "      <td>NaN</td>\n",
       "      <td>NaN</td>\n",
       "      <td>NaN</td>\n",
       "      <td>NaN</td>\n",
       "      <td>NaN</td>\n",
       "      <td>0</td>\n",
       "      <td>2025-07-05 14:41:02.694067</td>\n",
       "    </tr>\n",
       "  </tbody>\n",
       "</table>\n",
       "</div>"
      ],
      "text/plain": [
       "   region  year        record  value_mean  value_median  value_std  value_min  \\\n",
       "0  Africa  2020  BiocapPerCap         NaN           NaN        NaN        NaN   \n",
       "1  Africa  2020  EFConsPerCap         NaN           NaN        NaN        NaN   \n",
       "2  Africa  2020    Population         NaN           NaN        NaN        NaN   \n",
       "\n",
       "   value_max  value_count             transformed_at  \n",
       "0        NaN            0 2025-07-05 14:41:02.694067  \n",
       "1        NaN            0 2025-07-05 14:41:02.694067  \n",
       "2        NaN            0 2025-07-05 14:41:02.694067  "
      ]
     },
     "metadata": {},
     "output_type": "display_data"
    },
    {
     "name": "stdout",
     "output_type": "stream",
     "text": [
      "--------------------------------------------------------------------------------\n",
      "\n",
      "=== income_aggregations ===\n",
      "Shape: (45, 10)\n",
      "Columns: ['income_group', 'year', 'record', 'value_mean', 'value_median', 'value_std', 'value_min', 'value_max', 'value_count', 'transformed_at']\n"
     ]
    },
    {
     "data": {
      "text/html": [
       "<div>\n",
       "<style scoped>\n",
       "    .dataframe tbody tr th:only-of-type {\n",
       "        vertical-align: middle;\n",
       "    }\n",
       "\n",
       "    .dataframe tbody tr th {\n",
       "        vertical-align: top;\n",
       "    }\n",
       "\n",
       "    .dataframe thead th {\n",
       "        text-align: right;\n",
       "    }\n",
       "</style>\n",
       "<table border=\"1\" class=\"dataframe\">\n",
       "  <thead>\n",
       "    <tr style=\"text-align: right;\">\n",
       "      <th></th>\n",
       "      <th>income_group</th>\n",
       "      <th>year</th>\n",
       "      <th>record</th>\n",
       "      <th>value_mean</th>\n",
       "      <th>value_median</th>\n",
       "      <th>value_std</th>\n",
       "      <th>value_min</th>\n",
       "      <th>value_max</th>\n",
       "      <th>value_count</th>\n",
       "      <th>transformed_at</th>\n",
       "    </tr>\n",
       "  </thead>\n",
       "  <tbody>\n",
       "    <tr>\n",
       "      <th>0</th>\n",
       "      <td>High Income</td>\n",
       "      <td>2020</td>\n",
       "      <td>BiocapPerCap</td>\n",
       "      <td>NaN</td>\n",
       "      <td>NaN</td>\n",
       "      <td>NaN</td>\n",
       "      <td>NaN</td>\n",
       "      <td>NaN</td>\n",
       "      <td>0</td>\n",
       "      <td>2025-07-05 14:41:02.694159</td>\n",
       "    </tr>\n",
       "    <tr>\n",
       "      <th>1</th>\n",
       "      <td>High Income</td>\n",
       "      <td>2020</td>\n",
       "      <td>EFConsPerCap</td>\n",
       "      <td>NaN</td>\n",
       "      <td>NaN</td>\n",
       "      <td>NaN</td>\n",
       "      <td>NaN</td>\n",
       "      <td>NaN</td>\n",
       "      <td>0</td>\n",
       "      <td>2025-07-05 14:41:02.694159</td>\n",
       "    </tr>\n",
       "    <tr>\n",
       "      <th>2</th>\n",
       "      <td>High Income</td>\n",
       "      <td>2020</td>\n",
       "      <td>Population</td>\n",
       "      <td>NaN</td>\n",
       "      <td>NaN</td>\n",
       "      <td>NaN</td>\n",
       "      <td>NaN</td>\n",
       "      <td>NaN</td>\n",
       "      <td>0</td>\n",
       "      <td>2025-07-05 14:41:02.694159</td>\n",
       "    </tr>\n",
       "  </tbody>\n",
       "</table>\n",
       "</div>"
      ],
      "text/plain": [
       "  income_group  year        record  value_mean  value_median  value_std  \\\n",
       "0  High Income  2020  BiocapPerCap         NaN           NaN        NaN   \n",
       "1  High Income  2020  EFConsPerCap         NaN           NaN        NaN   \n",
       "2  High Income  2020    Population         NaN           NaN        NaN   \n",
       "\n",
       "   value_min  value_max  value_count             transformed_at  \n",
       "0        NaN        NaN            0 2025-07-05 14:41:02.694159  \n",
       "1        NaN        NaN            0 2025-07-05 14:41:02.694159  \n",
       "2        NaN        NaN            0 2025-07-05 14:41:02.694159  "
      ]
     },
     "metadata": {},
     "output_type": "display_data"
    },
    {
     "name": "stdout",
     "output_type": "stream",
     "text": [
      "--------------------------------------------------------------------------------\n",
      "\n",
      "=== weighted_aggregations ===\n",
      "Shape: (42, 7)\n",
      "Columns: ['region', 'year', 'record', 'weighted_value', 'population', 'population_weighted_avg', 'transformed_at']\n"
     ]
    },
    {
     "data": {
      "text/html": [
       "<div>\n",
       "<style scoped>\n",
       "    .dataframe tbody tr th:only-of-type {\n",
       "        vertical-align: middle;\n",
       "    }\n",
       "\n",
       "    .dataframe tbody tr th {\n",
       "        vertical-align: top;\n",
       "    }\n",
       "\n",
       "    .dataframe thead th {\n",
       "        text-align: right;\n",
       "    }\n",
       "</style>\n",
       "<table border=\"1\" class=\"dataframe\">\n",
       "  <thead>\n",
       "    <tr style=\"text-align: right;\">\n",
       "      <th></th>\n",
       "      <th>region</th>\n",
       "      <th>year</th>\n",
       "      <th>record</th>\n",
       "      <th>weighted_value</th>\n",
       "      <th>population</th>\n",
       "      <th>population_weighted_avg</th>\n",
       "      <th>transformed_at</th>\n",
       "    </tr>\n",
       "  </thead>\n",
       "  <tbody>\n",
       "    <tr>\n",
       "      <th>0</th>\n",
       "      <td>Africa</td>\n",
       "      <td>2020</td>\n",
       "      <td>BiocapPerCap</td>\n",
       "      <td>0.000000e+00</td>\n",
       "      <td>0.0</td>\n",
       "      <td>NaN</td>\n",
       "      <td>2025-07-05 14:41:02.694227</td>\n",
       "    </tr>\n",
       "    <tr>\n",
       "      <th>1</th>\n",
       "      <td>Africa</td>\n",
       "      <td>2020</td>\n",
       "      <td>EFConsPerCap</td>\n",
       "      <td>0.000000e+00</td>\n",
       "      <td>0.0</td>\n",
       "      <td>NaN</td>\n",
       "      <td>2025-07-05 14:41:02.694227</td>\n",
       "    </tr>\n",
       "    <tr>\n",
       "      <th>2</th>\n",
       "      <td>Africa</td>\n",
       "      <td>2022</td>\n",
       "      <td>BiocapPerCap</td>\n",
       "      <td>1.326939e+08</td>\n",
       "      <td>243266028.0</td>\n",
       "      <td>0.545468</td>\n",
       "      <td>2025-07-05 14:41:02.694227</td>\n",
       "    </tr>\n",
       "  </tbody>\n",
       "</table>\n",
       "</div>"
      ],
      "text/plain": [
       "   region  year        record  weighted_value   population  \\\n",
       "0  Africa  2020  BiocapPerCap    0.000000e+00          0.0   \n",
       "1  Africa  2020  EFConsPerCap    0.000000e+00          0.0   \n",
       "2  Africa  2022  BiocapPerCap    1.326939e+08  243266028.0   \n",
       "\n",
       "   population_weighted_avg             transformed_at  \n",
       "0                      NaN 2025-07-05 14:41:02.694227  \n",
       "1                      NaN 2025-07-05 14:41:02.694227  \n",
       "2                 0.545468 2025-07-05 14:41:02.694227  "
      ]
     },
     "metadata": {},
     "output_type": "display_data"
    },
    {
     "name": "stdout",
     "output_type": "stream",
     "text": [
      "--------------------------------------------------------------------------------\n"
     ]
    }
   ],
   "source": [
    "# Function to display dataset overview\n",
    "def display_dataset_overview(name, df):\n",
    "    print(f\"\\n=== {name} ===\")\n",
    "    print(f\"Shape: {df.shape}\")\n",
    "    print(f\"Columns: {df.columns.tolist()}\")\n",
    "    display(df.head(3))\n",
    "    print(\"-\" * 80)\n",
    "\n",
    "# Display basic information about each dataset\n",
    "for name, df in all_data.items():\n",
    "    if isinstance(df, pd.DataFrame) and not df.empty:\n",
    "        display_dataset_overview(name, df)"
   ]
  },
  {
   "cell_type": "markdown",
   "id": "750b7369-cb30-40c3-a241-ca0d589fed8a",
   "metadata": {},
   "source": [
    "Section 3: Ecological Balance Analysis"
   ]
  },
  {
   "cell_type": "code",
   "execution_count": 3,
   "id": "41b4ba6a-a6a5-46d8-a4ab-9112bf0635c0",
   "metadata": {},
   "outputs": [
    {
     "name": "stdout",
     "output_type": "stream",
     "text": [
      "Top 10 Countries with Largest Ecological Reserve:\n"
     ]
    },
    {
     "data": {
      "text/html": [
       "<div>\n",
       "<style scoped>\n",
       "    .dataframe tbody tr th:only-of-type {\n",
       "        vertical-align: middle;\n",
       "    }\n",
       "\n",
       "    .dataframe tbody tr th {\n",
       "        vertical-align: top;\n",
       "    }\n",
       "\n",
       "    .dataframe thead th {\n",
       "        text-align: right;\n",
       "    }\n",
       "</style>\n",
       "<table border=\"1\" class=\"dataframe\">\n",
       "  <thead>\n",
       "    <tr style=\"text-align: right;\">\n",
       "      <th></th>\n",
       "      <th>country_name</th>\n",
       "      <th>region</th>\n",
       "      <th>income_group</th>\n",
       "      <th>biocapacity</th>\n",
       "      <th>footprint</th>\n",
       "      <th>ecological_balance</th>\n",
       "    </tr>\n",
       "  </thead>\n",
       "  <tbody>\n",
       "    <tr>\n",
       "      <th>173</th>\n",
       "      <td>Gabon</td>\n",
       "      <td>Unknown</td>\n",
       "      <td>Unknown</td>\n",
       "      <td>17.249200</td>\n",
       "      <td>2.261338</td>\n",
       "      <td>14.987862</td>\n",
       "    </tr>\n",
       "    <tr>\n",
       "      <th>85</th>\n",
       "      <td>Bolivia</td>\n",
       "      <td>Unknown</td>\n",
       "      <td>Unknown</td>\n",
       "      <td>13.493904</td>\n",
       "      <td>2.795655</td>\n",
       "      <td>10.698250</td>\n",
       "    </tr>\n",
       "    <tr>\n",
       "      <th>153</th>\n",
       "      <td>Congo</td>\n",
       "      <td>Unknown</td>\n",
       "      <td>Unknown</td>\n",
       "      <td>7.925198</td>\n",
       "      <td>1.196280</td>\n",
       "      <td>6.728918</td>\n",
       "    </tr>\n",
       "    <tr>\n",
       "      <th>144</th>\n",
       "      <td>Canada</td>\n",
       "      <td>Unknown</td>\n",
       "      <td>Unknown</td>\n",
       "      <td>14.445839</td>\n",
       "      <td>8.360311</td>\n",
       "      <td>6.085527</td>\n",
       "    </tr>\n",
       "    <tr>\n",
       "      <th>70</th>\n",
       "      <td>Paraguay</td>\n",
       "      <td>Unknown</td>\n",
       "      <td>Unknown</td>\n",
       "      <td>8.171836</td>\n",
       "      <td>2.183268</td>\n",
       "      <td>5.988568</td>\n",
       "    </tr>\n",
       "    <tr>\n",
       "      <th>107</th>\n",
       "      <td>Brazil</td>\n",
       "      <td>Unknown</td>\n",
       "      <td>Unknown</td>\n",
       "      <td>8.139713</td>\n",
       "      <td>2.414074</td>\n",
       "      <td>5.725639</td>\n",
       "    </tr>\n",
       "    <tr>\n",
       "      <th>168</th>\n",
       "      <td>Finland</td>\n",
       "      <td>Unknown</td>\n",
       "      <td>Unknown</td>\n",
       "      <td>12.043969</td>\n",
       "      <td>6.442348</td>\n",
       "      <td>5.601621</td>\n",
       "    </tr>\n",
       "    <tr>\n",
       "      <th>147</th>\n",
       "      <td>Central African Republic</td>\n",
       "      <td>Unknown</td>\n",
       "      <td>Unknown</td>\n",
       "      <td>6.807874</td>\n",
       "      <td>1.415432</td>\n",
       "      <td>5.392442</td>\n",
       "    </tr>\n",
       "    <tr>\n",
       "      <th>1</th>\n",
       "      <td>Australia</td>\n",
       "      <td>Unknown</td>\n",
       "      <td>Unknown</td>\n",
       "      <td>12.251614</td>\n",
       "      <td>7.307172</td>\n",
       "      <td>4.944441</td>\n",
       "    </tr>\n",
       "    <tr>\n",
       "      <th>53</th>\n",
       "      <td>Mongolia</td>\n",
       "      <td>Unknown</td>\n",
       "      <td>Unknown</td>\n",
       "      <td>13.478527</td>\n",
       "      <td>8.757137</td>\n",
       "      <td>4.721390</td>\n",
       "    </tr>\n",
       "  </tbody>\n",
       "</table>\n",
       "</div>"
      ],
      "text/plain": [
       "                 country_name   region income_group  biocapacity  footprint  \\\n",
       "173                     Gabon  Unknown      Unknown    17.249200   2.261338   \n",
       "85                    Bolivia  Unknown      Unknown    13.493904   2.795655   \n",
       "153                     Congo  Unknown      Unknown     7.925198   1.196280   \n",
       "144                    Canada  Unknown      Unknown    14.445839   8.360311   \n",
       "70                   Paraguay  Unknown      Unknown     8.171836   2.183268   \n",
       "107                    Brazil  Unknown      Unknown     8.139713   2.414074   \n",
       "168                   Finland  Unknown      Unknown    12.043969   6.442348   \n",
       "147  Central African Republic  Unknown      Unknown     6.807874   1.415432   \n",
       "1                   Australia  Unknown      Unknown    12.251614   7.307172   \n",
       "53                   Mongolia  Unknown      Unknown    13.478527   8.757137   \n",
       "\n",
       "     ecological_balance  \n",
       "173           14.987862  \n",
       "85            10.698250  \n",
       "153            6.728918  \n",
       "144            6.085527  \n",
       "70             5.988568  \n",
       "107            5.725639  \n",
       "168            5.601621  \n",
       "147            5.392442  \n",
       "1              4.944441  \n",
       "53             4.721390  "
      ]
     },
     "metadata": {},
     "output_type": "display_data"
    },
    {
     "name": "stdout",
     "output_type": "stream",
     "text": [
      "\n",
      "Top 10 Countries with Largest Ecological Deficit:\n"
     ]
    },
    {
     "data": {
      "text/html": [
       "<div>\n",
       "<style scoped>\n",
       "    .dataframe tbody tr th:only-of-type {\n",
       "        vertical-align: middle;\n",
       "    }\n",
       "\n",
       "    .dataframe tbody tr th {\n",
       "        vertical-align: top;\n",
       "    }\n",
       "\n",
       "    .dataframe thead th {\n",
       "        text-align: right;\n",
       "    }\n",
       "</style>\n",
       "<table border=\"1\" class=\"dataframe\">\n",
       "  <thead>\n",
       "    <tr style=\"text-align: right;\">\n",
       "      <th></th>\n",
       "      <th>country_name</th>\n",
       "      <th>region</th>\n",
       "      <th>income_group</th>\n",
       "      <th>biocapacity</th>\n",
       "      <th>footprint</th>\n",
       "      <th>ecological_balance</th>\n",
       "    </tr>\n",
       "  </thead>\n",
       "  <tbody>\n",
       "    <tr>\n",
       "      <th>78</th>\n",
       "      <td>Qatar</td>\n",
       "      <td>Unknown</td>\n",
       "      <td>Unknown</td>\n",
       "      <td>0.955901</td>\n",
       "      <td>14.981430</td>\n",
       "      <td>-14.025530</td>\n",
       "    </tr>\n",
       "    <tr>\n",
       "      <th>133</th>\n",
       "      <td>Luxembourg</td>\n",
       "      <td>Unknown</td>\n",
       "      <td>Unknown</td>\n",
       "      <td>1.318677</td>\n",
       "      <td>12.755715</td>\n",
       "      <td>-11.437038</td>\n",
       "    </tr>\n",
       "    <tr>\n",
       "      <th>95</th>\n",
       "      <td>Singapore</td>\n",
       "      <td>Unknown</td>\n",
       "      <td>Unknown</td>\n",
       "      <td>0.031059</td>\n",
       "      <td>10.557671</td>\n",
       "      <td>-10.526612</td>\n",
       "    </tr>\n",
       "    <tr>\n",
       "      <th>44</th>\n",
       "      <td>Bahrain</td>\n",
       "      <td>Unknown</td>\n",
       "      <td>Unknown</td>\n",
       "      <td>0.487042</td>\n",
       "      <td>7.722257</td>\n",
       "      <td>-7.235215</td>\n",
       "    </tr>\n",
       "    <tr>\n",
       "      <th>35</th>\n",
       "      <td>Kuwait</td>\n",
       "      <td>Unknown</td>\n",
       "      <td>Unknown</td>\n",
       "      <td>0.519061</td>\n",
       "      <td>7.548999</td>\n",
       "      <td>-7.029938</td>\n",
       "    </tr>\n",
       "    <tr>\n",
       "      <th>132</th>\n",
       "      <td>Belgium</td>\n",
       "      <td>Unknown</td>\n",
       "      <td>Unknown</td>\n",
       "      <td>0.994228</td>\n",
       "      <td>5.982782</td>\n",
       "      <td>-4.988554</td>\n",
       "    </tr>\n",
       "    <tr>\n",
       "      <th>34</th>\n",
       "      <td>Korea, Republic of</td>\n",
       "      <td>Asia</td>\n",
       "      <td>Unknown</td>\n",
       "      <td>0.625882</td>\n",
       "      <td>5.594556</td>\n",
       "      <td>-4.968674</td>\n",
       "    </tr>\n",
       "    <tr>\n",
       "      <th>176</th>\n",
       "      <td>Antigua and Barbuda</td>\n",
       "      <td>Unknown</td>\n",
       "      <td>Unknown</td>\n",
       "      <td>0.900478</td>\n",
       "      <td>5.704565</td>\n",
       "      <td>-4.804087</td>\n",
       "    </tr>\n",
       "    <tr>\n",
       "      <th>25</th>\n",
       "      <td>Israel</td>\n",
       "      <td>Unknown</td>\n",
       "      <td>Unknown</td>\n",
       "      <td>0.246288</td>\n",
       "      <td>5.045428</td>\n",
       "      <td>-4.799140</td>\n",
       "    </tr>\n",
       "    <tr>\n",
       "      <th>48</th>\n",
       "      <td>Malta</td>\n",
       "      <td>Unknown</td>\n",
       "      <td>Unknown</td>\n",
       "      <td>0.426087</td>\n",
       "      <td>5.064298</td>\n",
       "      <td>-4.638211</td>\n",
       "    </tr>\n",
       "  </tbody>\n",
       "</table>\n",
       "</div>"
      ],
      "text/plain": [
       "            country_name   region income_group  biocapacity  footprint  \\\n",
       "78                 Qatar  Unknown      Unknown     0.955901  14.981430   \n",
       "133           Luxembourg  Unknown      Unknown     1.318677  12.755715   \n",
       "95             Singapore  Unknown      Unknown     0.031059  10.557671   \n",
       "44               Bahrain  Unknown      Unknown     0.487042   7.722257   \n",
       "35                Kuwait  Unknown      Unknown     0.519061   7.548999   \n",
       "132              Belgium  Unknown      Unknown     0.994228   5.982782   \n",
       "34    Korea, Republic of     Asia      Unknown     0.625882   5.594556   \n",
       "176  Antigua and Barbuda  Unknown      Unknown     0.900478   5.704565   \n",
       "25                Israel  Unknown      Unknown     0.246288   5.045428   \n",
       "48                 Malta  Unknown      Unknown     0.426087   5.064298   \n",
       "\n",
       "     ecological_balance  \n",
       "78           -14.025530  \n",
       "133          -11.437038  \n",
       "95           -10.526612  \n",
       "44            -7.235215  \n",
       "35            -7.029938  \n",
       "132           -4.988554  \n",
       "34            -4.968674  \n",
       "176           -4.804087  \n",
       "25            -4.799140  \n",
       "48            -4.638211  "
      ]
     },
     "metadata": {},
     "output_type": "display_data"
    },
    {
     "data": {
      "application/vnd.plotly.v1+json": {
       "config": {
        "plotlyServerURL": "https://plot.ly"
       },
       "data": [
        {
         "customdata": {
          "bdata": "H36xk8s/MUBOhQ1hOBcCQKngIwzh/CpAF5KYQoBdBkCuwD/+ZrMfQO5XCjj2I/M/PxAA/kTkLEBYTtq9erggQN2tOOD6VyBA+6Yn/VR3AUCDqT1piEcgQNxk8OsFUANAUn0DHoMWKEDTP3jF9sQZQE517F9DOxtAne8W2Jul9j+FKmCG04AoQNUJiWeLOh1AiHlDfAH1KkAtSNx1p4MhQA==",
          "dtype": "f8",
          "shape": "10, 2"
         },
         "hovertemplate": "region=Unknown<br>Country=%{x}<br>Ecological Balance (gha/person)=%{y}<br>biocapacity=%{customdata[0]}<br>footprint=%{customdata[1]}<extra></extra>",
         "legendgroup": "Unknown",
         "marker": {
          "color": "#636efa",
          "pattern": {
           "shape": ""
          }
         },
         "name": "Unknown",
         "orientation": "v",
         "showlegend": true,
         "textposition": "auto",
         "type": "bar",
         "x": [
          "Gabon",
          "Bolivia",
          "Congo",
          "Canada",
          "Paraguay",
          "Brazil",
          "Finland",
          "Central African Republic",
          "Australia",
          "Mongolia"
         ],
         "xaxis": "x",
         "y": {
          "bdata": "6pofD8n5LUAjvH37gGUlQLIqPXBp6hpAzoNLgJRXGEA8iN1BS/QXQJggg9wN5xZA0bqOdg9oFkBnueZp3JEVQDVLN6UbxxNAtmLODLTiEkA=",
          "dtype": "f8"
         },
         "yaxis": "y"
        }
       ],
       "layout": {
        "barmode": "relative",
        "height": 500,
        "legend": {
         "title": {
          "text": "region"
         },
         "tracegroupgap": 0
        },
        "template": {
         "data": {
          "bar": [
           {
            "error_x": {
             "color": "#2a3f5f"
            },
            "error_y": {
             "color": "#2a3f5f"
            },
            "marker": {
             "line": {
              "color": "#E5ECF6",
              "width": 0.5
             },
             "pattern": {
              "fillmode": "overlay",
              "size": 10,
              "solidity": 0.2
             }
            },
            "type": "bar"
           }
          ],
          "barpolar": [
           {
            "marker": {
             "line": {
              "color": "#E5ECF6",
              "width": 0.5
             },
             "pattern": {
              "fillmode": "overlay",
              "size": 10,
              "solidity": 0.2
             }
            },
            "type": "barpolar"
           }
          ],
          "carpet": [
           {
            "aaxis": {
             "endlinecolor": "#2a3f5f",
             "gridcolor": "white",
             "linecolor": "white",
             "minorgridcolor": "white",
             "startlinecolor": "#2a3f5f"
            },
            "baxis": {
             "endlinecolor": "#2a3f5f",
             "gridcolor": "white",
             "linecolor": "white",
             "minorgridcolor": "white",
             "startlinecolor": "#2a3f5f"
            },
            "type": "carpet"
           }
          ],
          "choropleth": [
           {
            "colorbar": {
             "outlinewidth": 0,
             "ticks": ""
            },
            "type": "choropleth"
           }
          ],
          "contour": [
           {
            "colorbar": {
             "outlinewidth": 0,
             "ticks": ""
            },
            "colorscale": [
             [
              0,
              "#0d0887"
             ],
             [
              0.1111111111111111,
              "#46039f"
             ],
             [
              0.2222222222222222,
              "#7201a8"
             ],
             [
              0.3333333333333333,
              "#9c179e"
             ],
             [
              0.4444444444444444,
              "#bd3786"
             ],
             [
              0.5555555555555556,
              "#d8576b"
             ],
             [
              0.6666666666666666,
              "#ed7953"
             ],
             [
              0.7777777777777778,
              "#fb9f3a"
             ],
             [
              0.8888888888888888,
              "#fdca26"
             ],
             [
              1,
              "#f0f921"
             ]
            ],
            "type": "contour"
           }
          ],
          "contourcarpet": [
           {
            "colorbar": {
             "outlinewidth": 0,
             "ticks": ""
            },
            "type": "contourcarpet"
           }
          ],
          "heatmap": [
           {
            "colorbar": {
             "outlinewidth": 0,
             "ticks": ""
            },
            "colorscale": [
             [
              0,
              "#0d0887"
             ],
             [
              0.1111111111111111,
              "#46039f"
             ],
             [
              0.2222222222222222,
              "#7201a8"
             ],
             [
              0.3333333333333333,
              "#9c179e"
             ],
             [
              0.4444444444444444,
              "#bd3786"
             ],
             [
              0.5555555555555556,
              "#d8576b"
             ],
             [
              0.6666666666666666,
              "#ed7953"
             ],
             [
              0.7777777777777778,
              "#fb9f3a"
             ],
             [
              0.8888888888888888,
              "#fdca26"
             ],
             [
              1,
              "#f0f921"
             ]
            ],
            "type": "heatmap"
           }
          ],
          "histogram": [
           {
            "marker": {
             "pattern": {
              "fillmode": "overlay",
              "size": 10,
              "solidity": 0.2
             }
            },
            "type": "histogram"
           }
          ],
          "histogram2d": [
           {
            "colorbar": {
             "outlinewidth": 0,
             "ticks": ""
            },
            "colorscale": [
             [
              0,
              "#0d0887"
             ],
             [
              0.1111111111111111,
              "#46039f"
             ],
             [
              0.2222222222222222,
              "#7201a8"
             ],
             [
              0.3333333333333333,
              "#9c179e"
             ],
             [
              0.4444444444444444,
              "#bd3786"
             ],
             [
              0.5555555555555556,
              "#d8576b"
             ],
             [
              0.6666666666666666,
              "#ed7953"
             ],
             [
              0.7777777777777778,
              "#fb9f3a"
             ],
             [
              0.8888888888888888,
              "#fdca26"
             ],
             [
              1,
              "#f0f921"
             ]
            ],
            "type": "histogram2d"
           }
          ],
          "histogram2dcontour": [
           {
            "colorbar": {
             "outlinewidth": 0,
             "ticks": ""
            },
            "colorscale": [
             [
              0,
              "#0d0887"
             ],
             [
              0.1111111111111111,
              "#46039f"
             ],
             [
              0.2222222222222222,
              "#7201a8"
             ],
             [
              0.3333333333333333,
              "#9c179e"
             ],
             [
              0.4444444444444444,
              "#bd3786"
             ],
             [
              0.5555555555555556,
              "#d8576b"
             ],
             [
              0.6666666666666666,
              "#ed7953"
             ],
             [
              0.7777777777777778,
              "#fb9f3a"
             ],
             [
              0.8888888888888888,
              "#fdca26"
             ],
             [
              1,
              "#f0f921"
             ]
            ],
            "type": "histogram2dcontour"
           }
          ],
          "mesh3d": [
           {
            "colorbar": {
             "outlinewidth": 0,
             "ticks": ""
            },
            "type": "mesh3d"
           }
          ],
          "parcoords": [
           {
            "line": {
             "colorbar": {
              "outlinewidth": 0,
              "ticks": ""
             }
            },
            "type": "parcoords"
           }
          ],
          "pie": [
           {
            "automargin": true,
            "type": "pie"
           }
          ],
          "scatter": [
           {
            "fillpattern": {
             "fillmode": "overlay",
             "size": 10,
             "solidity": 0.2
            },
            "type": "scatter"
           }
          ],
          "scatter3d": [
           {
            "line": {
             "colorbar": {
              "outlinewidth": 0,
              "ticks": ""
             }
            },
            "marker": {
             "colorbar": {
              "outlinewidth": 0,
              "ticks": ""
             }
            },
            "type": "scatter3d"
           }
          ],
          "scattercarpet": [
           {
            "marker": {
             "colorbar": {
              "outlinewidth": 0,
              "ticks": ""
             }
            },
            "type": "scattercarpet"
           }
          ],
          "scattergeo": [
           {
            "marker": {
             "colorbar": {
              "outlinewidth": 0,
              "ticks": ""
             }
            },
            "type": "scattergeo"
           }
          ],
          "scattergl": [
           {
            "marker": {
             "colorbar": {
              "outlinewidth": 0,
              "ticks": ""
             }
            },
            "type": "scattergl"
           }
          ],
          "scattermap": [
           {
            "marker": {
             "colorbar": {
              "outlinewidth": 0,
              "ticks": ""
             }
            },
            "type": "scattermap"
           }
          ],
          "scattermapbox": [
           {
            "marker": {
             "colorbar": {
              "outlinewidth": 0,
              "ticks": ""
             }
            },
            "type": "scattermapbox"
           }
          ],
          "scatterpolar": [
           {
            "marker": {
             "colorbar": {
              "outlinewidth": 0,
              "ticks": ""
             }
            },
            "type": "scatterpolar"
           }
          ],
          "scatterpolargl": [
           {
            "marker": {
             "colorbar": {
              "outlinewidth": 0,
              "ticks": ""
             }
            },
            "type": "scatterpolargl"
           }
          ],
          "scatterternary": [
           {
            "marker": {
             "colorbar": {
              "outlinewidth": 0,
              "ticks": ""
             }
            },
            "type": "scatterternary"
           }
          ],
          "surface": [
           {
            "colorbar": {
             "outlinewidth": 0,
             "ticks": ""
            },
            "colorscale": [
             [
              0,
              "#0d0887"
             ],
             [
              0.1111111111111111,
              "#46039f"
             ],
             [
              0.2222222222222222,
              "#7201a8"
             ],
             [
              0.3333333333333333,
              "#9c179e"
             ],
             [
              0.4444444444444444,
              "#bd3786"
             ],
             [
              0.5555555555555556,
              "#d8576b"
             ],
             [
              0.6666666666666666,
              "#ed7953"
             ],
             [
              0.7777777777777778,
              "#fb9f3a"
             ],
             [
              0.8888888888888888,
              "#fdca26"
             ],
             [
              1,
              "#f0f921"
             ]
            ],
            "type": "surface"
           }
          ],
          "table": [
           {
            "cells": {
             "fill": {
              "color": "#EBF0F8"
             },
             "line": {
              "color": "white"
             }
            },
            "header": {
             "fill": {
              "color": "#C8D4E3"
             },
             "line": {
              "color": "white"
             }
            },
            "type": "table"
           }
          ]
         },
         "layout": {
          "annotationdefaults": {
           "arrowcolor": "#2a3f5f",
           "arrowhead": 0,
           "arrowwidth": 1
          },
          "autotypenumbers": "strict",
          "coloraxis": {
           "colorbar": {
            "outlinewidth": 0,
            "ticks": ""
           }
          },
          "colorscale": {
           "diverging": [
            [
             0,
             "#8e0152"
            ],
            [
             0.1,
             "#c51b7d"
            ],
            [
             0.2,
             "#de77ae"
            ],
            [
             0.3,
             "#f1b6da"
            ],
            [
             0.4,
             "#fde0ef"
            ],
            [
             0.5,
             "#f7f7f7"
            ],
            [
             0.6,
             "#e6f5d0"
            ],
            [
             0.7,
             "#b8e186"
            ],
            [
             0.8,
             "#7fbc41"
            ],
            [
             0.9,
             "#4d9221"
            ],
            [
             1,
             "#276419"
            ]
           ],
           "sequential": [
            [
             0,
             "#0d0887"
            ],
            [
             0.1111111111111111,
             "#46039f"
            ],
            [
             0.2222222222222222,
             "#7201a8"
            ],
            [
             0.3333333333333333,
             "#9c179e"
            ],
            [
             0.4444444444444444,
             "#bd3786"
            ],
            [
             0.5555555555555556,
             "#d8576b"
            ],
            [
             0.6666666666666666,
             "#ed7953"
            ],
            [
             0.7777777777777778,
             "#fb9f3a"
            ],
            [
             0.8888888888888888,
             "#fdca26"
            ],
            [
             1,
             "#f0f921"
            ]
           ],
           "sequentialminus": [
            [
             0,
             "#0d0887"
            ],
            [
             0.1111111111111111,
             "#46039f"
            ],
            [
             0.2222222222222222,
             "#7201a8"
            ],
            [
             0.3333333333333333,
             "#9c179e"
            ],
            [
             0.4444444444444444,
             "#bd3786"
            ],
            [
             0.5555555555555556,
             "#d8576b"
            ],
            [
             0.6666666666666666,
             "#ed7953"
            ],
            [
             0.7777777777777778,
             "#fb9f3a"
            ],
            [
             0.8888888888888888,
             "#fdca26"
            ],
            [
             1,
             "#f0f921"
            ]
           ]
          },
          "colorway": [
           "#636efa",
           "#EF553B",
           "#00cc96",
           "#ab63fa",
           "#FFA15A",
           "#19d3f3",
           "#FF6692",
           "#B6E880",
           "#FF97FF",
           "#FECB52"
          ],
          "font": {
           "color": "#2a3f5f"
          },
          "geo": {
           "bgcolor": "white",
           "lakecolor": "white",
           "landcolor": "#E5ECF6",
           "showlakes": true,
           "showland": true,
           "subunitcolor": "white"
          },
          "hoverlabel": {
           "align": "left"
          },
          "hovermode": "closest",
          "mapbox": {
           "style": "light"
          },
          "paper_bgcolor": "white",
          "plot_bgcolor": "#E5ECF6",
          "polar": {
           "angularaxis": {
            "gridcolor": "white",
            "linecolor": "white",
            "ticks": ""
           },
           "bgcolor": "#E5ECF6",
           "radialaxis": {
            "gridcolor": "white",
            "linecolor": "white",
            "ticks": ""
           }
          },
          "scene": {
           "xaxis": {
            "backgroundcolor": "#E5ECF6",
            "gridcolor": "white",
            "gridwidth": 2,
            "linecolor": "white",
            "showbackground": true,
            "ticks": "",
            "zerolinecolor": "white"
           },
           "yaxis": {
            "backgroundcolor": "#E5ECF6",
            "gridcolor": "white",
            "gridwidth": 2,
            "linecolor": "white",
            "showbackground": true,
            "ticks": "",
            "zerolinecolor": "white"
           },
           "zaxis": {
            "backgroundcolor": "#E5ECF6",
            "gridcolor": "white",
            "gridwidth": 2,
            "linecolor": "white",
            "showbackground": true,
            "ticks": "",
            "zerolinecolor": "white"
           }
          },
          "shapedefaults": {
           "line": {
            "color": "#2a3f5f"
           }
          },
          "ternary": {
           "aaxis": {
            "gridcolor": "white",
            "linecolor": "white",
            "ticks": ""
           },
           "baxis": {
            "gridcolor": "white",
            "linecolor": "white",
            "ticks": ""
           },
           "bgcolor": "#E5ECF6",
           "caxis": {
            "gridcolor": "white",
            "linecolor": "white",
            "ticks": ""
           }
          },
          "title": {
           "x": 0.05
          },
          "xaxis": {
           "automargin": true,
           "gridcolor": "white",
           "linecolor": "white",
           "ticks": "",
           "title": {
            "standoff": 15
           },
           "zerolinecolor": "white",
           "zerolinewidth": 2
          },
          "yaxis": {
           "automargin": true,
           "gridcolor": "white",
           "linecolor": "white",
           "ticks": "",
           "title": {
            "standoff": 15
           },
           "zerolinecolor": "white",
           "zerolinewidth": 2
          }
         }
        },
        "title": {
         "text": "Top 10 Countries with Largest Ecological Reserve"
        },
        "xaxis": {
         "anchor": "y",
         "domain": [
          0,
          1
         ],
         "title": {
          "text": "Country"
         }
        },
        "yaxis": {
         "anchor": "x",
         "domain": [
          0,
          1
         ],
         "title": {
          "text": "Ecological Balance (gha/person)"
         }
        }
       }
      },
      "image/png": "[encoded data removed]"
     },
     "metadata": {},
     "output_type": "display_data"
    },
    {
     "data": {
      "application/vnd.plotly.v1+json": {
       "config": {
        "plotlyServerURL": "https://plot.ly"
       },
       "data": [
        {
         "customdata": {
          "bdata": "fzgnQL2W7j8R4XcNfvYtQAyTLYxNGfU/tvVeIO2CKUAR+Tdo2M2fP3pZCwqHHSVA5O9XrLEr3z96RsZsl+MeQAKa+l0lnOA/VPdZxSwyHkAL+SB/t9DvP0KE+FNe7hdAH5G2PLfQ7D+AEFuXedEWQE8XXXNfhs8/mj0zn4QuFEDMEvM5A0XbP35ew03XQRRA",
          "dtype": "f8",
          "shape": "9, 2"
         },
         "hovertemplate": "region=Unknown<br>Country=%{x}<br>Ecological Balance (gha/person)=%{y}<br>biocapacity=%{customdata[0]}<br>footprint=%{customdata[1]}<extra></extra>",
         "legendgroup": "Unknown",
         "marker": {
          "color": "#636efa",
          "pattern": {
           "shape": ""
          }
         },
         "name": "Unknown",
         "orientation": "v",
         "showlegend": true,
         "textposition": "auto",
         "type": "bar",
         "x": [
          "Qatar",
          "Luxembourg",
          "Singapore",
          "Bahrain",
          "Kuwait",
          "Belgium",
          "Antigua and Barbuda",
          "Israel",
          "Malta"
         ],
         "xaxis": "x",
         "y": {
          "bdata": "iW11ORINLMBUQ9luw98mwH091x2gDSXAfMcAUtzwHMAUpJoZqB4cwCFlFGRH9BPAXD7Er2I3E8DgVJijUTITwFEtJBqHjRLA",
          "dtype": "f8"
         },
         "yaxis": "y"
        },
        {
         "customdata": {
          "bdata": "wfNoSDoH5D+X5VBS02AWQA==",
          "dtype": "f8",
          "shape": "1, 2"
         },
         "hovertemplate": "region=Asia<br>Country=%{x}<br>Ecological Balance (gha/person)=%{y}<br>biocapacity=%{customdata[0]}<br>footprint=%{customdata[1]}<extra></extra>",
         "legendgroup": "Asia",
         "marker": {
          "color": "#EF553B",
          "pattern": {
           "shape": ""
          }
         },
         "name": "Asia",
         "orientation": "v",
         "showlegend": true,
         "textposition": "auto",
         "type": "bar",
         "x": [
          "Korea, Republic of"
         ],
         "xaxis": "x",
         "y": {
          "bdata": "H8dDCezfE8A=",
          "dtype": "f8"
         },
         "yaxis": "y"
        }
       ],
       "layout": {
        "barmode": "relative",
        "height": 500,
        "legend": {
         "title": {
          "text": "region"
         },
         "tracegroupgap": 0
        },
        "template": {
         "data": {
          "bar": [
           {
            "error_x": {
             "color": "#2a3f5f"
            },
            "error_y": {
             "color": "#2a3f5f"
            },
            "marker": {
             "line": {
              "color": "#E5ECF6",
              "width": 0.5
             },
             "pattern": {
              "fillmode": "overlay",
              "size": 10,
              "solidity": 0.2
             }
            },
            "type": "bar"
           }
          ],
          "barpolar": [
           {
            "marker": {
             "line": {
              "color": "#E5ECF6",
              "width": 0.5
             },
             "pattern": {
              "fillmode": "overlay",
              "size": 10,
              "solidity": 0.2
             }
            },
            "type": "barpolar"
           }
          ],
          "carpet": [
           {
            "aaxis": {
             "endlinecolor": "#2a3f5f",
             "gridcolor": "white",
             "linecolor": "white",
             "minorgridcolor": "white",
             "startlinecolor": "#2a3f5f"
            },
            "baxis": {
             "endlinecolor": "#2a3f5f",
             "gridcolor": "white",
             "linecolor": "white",
             "minorgridcolor": "white",
             "startlinecolor": "#2a3f5f"
            },
            "type": "carpet"
           }
          ],
          "choropleth": [
           {
            "colorbar": {
             "outlinewidth": 0,
             "ticks": ""
            },
            "type": "choropleth"
           }
          ],
          "contour": [
           {
            "colorbar": {
             "outlinewidth": 0,
             "ticks": ""
            },
            "colorscale": [
             [
              0,
              "#0d0887"
             ],
             [
              0.1111111111111111,
              "#46039f"
             ],
             [
              0.2222222222222222,
              "#7201a8"
             ],
             [
              0.3333333333333333,
              "#9c179e"
             ],
             [
              0.4444444444444444,
              "#bd3786"
             ],
             [
              0.5555555555555556,
              "#d8576b"
             ],
             [
              0.6666666666666666,
              "#ed7953"
             ],
             [
              0.7777777777777778,
              "#fb9f3a"
             ],
             [
              0.8888888888888888,
              "#fdca26"
             ],
             [
              1,
              "#f0f921"
             ]
            ],
            "type": "contour"
           }
          ],
          "contourcarpet": [
           {
            "colorbar": {
             "outlinewidth": 0,
             "ticks": ""
            },
            "type": "contourcarpet"
           }
          ],
          "heatmap": [
           {
            "colorbar": {
             "outlinewidth": 0,
             "ticks": ""
            },
            "colorscale": [
             [
              0,
              "#0d0887"
             ],
             [
              0.1111111111111111,
              "#46039f"
             ],
             [
              0.2222222222222222,
              "#7201a8"
             ],
             [
              0.3333333333333333,
              "#9c179e"
             ],
             [
              0.4444444444444444,
              "#bd3786"
             ],
             [
              0.5555555555555556,
              "#d8576b"
             ],
             [
              0.6666666666666666,
              "#ed7953"
             ],
             [
              0.7777777777777778,
              "#fb9f3a"
             ],
             [
              0.8888888888888888,
              "#fdca26"
             ],
             [
              1,
              "#f0f921"
             ]
            ],
            "type": "heatmap"
           }
          ],
          "histogram": [
           {
            "marker": {
             "pattern": {
              "fillmode": "overlay",
              "size": 10,
              "solidity": 0.2
             }
            },
            "type": "histogram"
           }
          ],
          "histogram2d": [
           {
            "colorbar": {
             "outlinewidth": 0,
             "ticks": ""
            },
            "colorscale": [
             [
              0,
              "#0d0887"
             ],
             [
              0.1111111111111111,
              "#46039f"
             ],
             [
              0.2222222222222222,
              "#7201a8"
             ],
             [
              0.3333333333333333,
              "#9c179e"
             ],
             [
              0.4444444444444444,
              "#bd3786"
             ],
             [
              0.5555555555555556,
              "#d8576b"
             ],
             [
              0.6666666666666666,
              "#ed7953"
             ],
             [
              0.7777777777777778,
              "#fb9f3a"
             ],
             [
              0.8888888888888888,
              "#fdca26"
             ],
             [
              1,
              "#f0f921"
             ]
            ],
            "type": "histogram2d"
           }
          ],
          "histogram2dcontour": [
           {
            "colorbar": {
             "outlinewidth": 0,
             "ticks": ""
            },
            "colorscale": [
             [
              0,
              "#0d0887"
             ],
             [
              0.1111111111111111,
              "#46039f"
             ],
             [
              0.2222222222222222,
              "#7201a8"
             ],
             [
              0.3333333333333333,
              "#9c179e"
             ],
             [
              0.4444444444444444,
              "#bd3786"
             ],
             [
              0.5555555555555556,
              "#d8576b"
             ],
             [
              0.6666666666666666,
              "#ed7953"
             ],
             [
              0.7777777777777778,
              "#fb9f3a"
             ],
             [
              0.8888888888888888,
              "#fdca26"
             ],
             [
              1,
              "#f0f921"
             ]
            ],
            "type": "histogram2dcontour"
           }
          ],
          "mesh3d": [
           {
            "colorbar": {
             "outlinewidth": 0,
             "ticks": ""
            },
            "type": "mesh3d"
           }
          ],
          "parcoords": [
           {
            "line": {
             "colorbar": {
              "outlinewidth": 0,
              "ticks": ""
             }
            },
            "type": "parcoords"
           }
          ],
          "pie": [
           {
            "automargin": true,
            "type": "pie"
           }
          ],
          "scatter": [
           {
            "fillpattern": {
             "fillmode": "overlay",
             "size": 10,
             "solidity": 0.2
            },
            "type": "scatter"
           }
          ],
          "scatter3d": [
           {
            "line": {
             "colorbar": {
              "outlinewidth": 0,
              "ticks": ""
             }
            },
            "marker": {
             "colorbar": {
              "outlinewidth": 0,
              "ticks": ""
             }
            },
            "type": "scatter3d"
           }
          ],
          "scattercarpet": [
           {
            "marker": {
             "colorbar": {
              "outlinewidth": 0,
              "ticks": ""
             }
            },
            "type": "scattercarpet"
           }
          ],
          "scattergeo": [
           {
            "marker": {
             "colorbar": {
              "outlinewidth": 0,
              "ticks": ""
             }
            },
            "type": "scattergeo"
           }
          ],
          "scattergl": [
           {
            "marker": {
             "colorbar": {
              "outlinewidth": 0,
              "ticks": ""
             }
            },
            "type": "scattergl"
           }
          ],
          "scattermap": [
           {
            "marker": {
             "colorbar": {
              "outlinewidth": 0,
              "ticks": ""
             }
            },
            "type": "scattermap"
           }
          ],
          "scattermapbox": [
           {
            "marker": {
             "colorbar": {
              "outlinewidth": 0,
              "ticks": ""
             }
            },
            "type": "scattermapbox"
           }
          ],
          "scatterpolar": [
           {
            "marker": {
             "colorbar": {
              "outlinewidth": 0,
              "ticks": ""
             }
            },
            "type": "scatterpolar"
           }
          ],
          "scatterpolargl": [
           {
            "marker": {
             "colorbar": {
              "outlinewidth": 0,
              "ticks": ""
             }
            },
            "type": "scatterpolargl"
           }
          ],
          "scatterternary": [
           {
            "marker": {
             "colorbar": {
              "outlinewidth": 0,
              "ticks": ""
             }
            },
            "type": "scatterternary"
           }
          ],
          "surface": [
           {
            "colorbar": {
             "outlinewidth": 0,
             "ticks": ""
            },
            "colorscale": [
             [
              0,
              "#0d0887"
             ],
             [
              0.1111111111111111,
              "#46039f"
             ],
             [
              0.2222222222222222,
              "#7201a8"
             ],
             [
              0.3333333333333333,
              "#9c179e"
             ],
             [
              0.4444444444444444,
              "#bd3786"
             ],
             [
              0.5555555555555556,
              "#d8576b"
             ],
             [
              0.6666666666666666,
              "#ed7953"
             ],
             [
              0.7777777777777778,
              "#fb9f3a"
             ],
             [
              0.8888888888888888,
              "#fdca26"
             ],
             [
              1,
              "#f0f921"
             ]
            ],
            "type": "surface"
           }
          ],
          "table": [
           {
            "cells": {
             "fill": {
              "color": "#EBF0F8"
             },
             "line": {
              "color": "white"
             }
            },
            "header": {
             "fill": {
              "color": "#C8D4E3"
             },
             "line": {
              "color": "white"
             }
            },
            "type": "table"
           }
          ]
         },
         "layout": {
          "annotationdefaults": {
           "arrowcolor": "#2a3f5f",
           "arrowhead": 0,
           "arrowwidth": 1
          },
          "autotypenumbers": "strict",
          "coloraxis": {
           "colorbar": {
            "outlinewidth": 0,
            "ticks": ""
           }
          },
          "colorscale": {
           "diverging": [
            [
             0,
             "#8e0152"
            ],
            [
             0.1,
             "#c51b7d"
            ],
            [
             0.2,
             "#de77ae"
            ],
            [
             0.3,
             "#f1b6da"
            ],
            [
             0.4,
             "#fde0ef"
            ],
            [
             0.5,
             "#f7f7f7"
            ],
            [
             0.6,
             "#e6f5d0"
            ],
            [
             0.7,
             "#b8e186"
            ],
            [
             0.8,
             "#7fbc41"
            ],
            [
             0.9,
             "#4d9221"
            ],
            [
             1,
             "#276419"
            ]
           ],
           "sequential": [
            [
             0,
             "#0d0887"
            ],
            [
             0.1111111111111111,
             "#46039f"
            ],
            [
             0.2222222222222222,
             "#7201a8"
            ],
            [
             0.3333333333333333,
             "#9c179e"
            ],
            [
             0.4444444444444444,
             "#bd3786"
            ],
            [
             0.5555555555555556,
             "#d8576b"
            ],
            [
             0.6666666666666666,
             "#ed7953"
            ],
            [
             0.7777777777777778,
             "#fb9f3a"
            ],
            [
             0.8888888888888888,
             "#fdca26"
            ],
            [
             1,
             "#f0f921"
            ]
           ],
           "sequentialminus": [
            [
             0,
             "#0d0887"
            ],
            [
             0.1111111111111111,
             "#46039f"
            ],
            [
             0.2222222222222222,
             "#7201a8"
            ],
            [
             0.3333333333333333,
             "#9c179e"
            ],
            [
             0.4444444444444444,
             "#bd3786"
            ],
            [
             0.5555555555555556,
             "#d8576b"
            ],
            [
             0.6666666666666666,
             "#ed7953"
            ],
            [
             0.7777777777777778,
             "#fb9f3a"
            ],
            [
             0.8888888888888888,
             "#fdca26"
            ],
            [
             1,
             "#f0f921"
            ]
           ]
          },
          "colorway": [
           "#636efa",
           "#EF553B",
           "#00cc96",
           "#ab63fa",
           "#FFA15A",
           "#19d3f3",
           "#FF6692",
           "#B6E880",
           "#FF97FF",
           "#FECB52"
          ],
          "font": {
           "color": "#2a3f5f"
          },
          "geo": {
           "bgcolor": "white",
           "lakecolor": "white",
           "landcolor": "#E5ECF6",
           "showlakes": true,
           "showland": true,
           "subunitcolor": "white"
          },
          "hoverlabel": {
           "align": "left"
          },
          "hovermode": "closest",
          "mapbox": {
           "style": "light"
          },
          "paper_bgcolor": "white",
          "plot_bgcolor": "#E5ECF6",
          "polar": {
           "angularaxis": {
            "gridcolor": "white",
            "linecolor": "white",
            "ticks": ""
           },
           "bgcolor": "#E5ECF6",
           "radialaxis": {
            "gridcolor": "white",
            "linecolor": "white",
            "ticks": ""
           }
          },
          "scene": {
           "xaxis": {
            "backgroundcolor": "#E5ECF6",
            "gridcolor": "white",
            "gridwidth": 2,
            "linecolor": "white",
            "showbackground": true,
            "ticks": "",
            "zerolinecolor": "white"
           },
           "yaxis": {
            "backgroundcolor": "#E5ECF6",
            "gridcolor": "white",
            "gridwidth": 2,
            "linecolor": "white",
            "showbackground": true,
            "ticks": "",
            "zerolinecolor": "white"
           },
           "zaxis": {
            "backgroundcolor": "#E5ECF6",
            "gridcolor": "white",
            "gridwidth": 2,
            "linecolor": "white",
            "showbackground": true,
            "ticks": "",
            "zerolinecolor": "white"
           }
          },
          "shapedefaults": {
           "line": {
            "color": "#2a3f5f"
           }
          },
          "ternary": {
           "aaxis": {
            "gridcolor": "white",
            "linecolor": "white",
            "ticks": ""
           },
           "baxis": {
            "gridcolor": "white",
            "linecolor": "white",
            "ticks": ""
           },
           "bgcolor": "#E5ECF6",
           "caxis": {
            "gridcolor": "white",
            "linecolor": "white",
            "ticks": ""
           }
          },
          "title": {
           "x": 0.05
          },
          "xaxis": {
           "automargin": true,
           "gridcolor": "white",
           "linecolor": "white",
           "ticks": "",
           "title": {
            "standoff": 15
           },
           "zerolinecolor": "white",
           "zerolinewidth": 2
          },
          "yaxis": {
           "automargin": true,
           "gridcolor": "white",
           "linecolor": "white",
           "ticks": "",
           "title": {
            "standoff": 15
           },
           "zerolinecolor": "white",
           "zerolinewidth": 2
          }
         }
        },
        "title": {
         "text": "Top 10 Countries with Largest Ecological Deficit"
        },
        "xaxis": {
         "anchor": "y",
         "domain": [
          0,
          1
         ],
         "title": {
          "text": "Country"
         }
        },
        "yaxis": {
         "anchor": "x",
         "domain": [
          0,
          1
         ],
         "title": {
          "text": "Ecological Balance (gha/person)"
         }
        }
       }
      },
      "image/png": "[encoded data removed]"
     },
     "metadata": {},
     "output_type": "display_data"
    },
    {
     "data": {
      "application/vnd.plotly.v1+json": {
       "config": {
        "plotlyServerURL": "https://plot.ly"
       },
       "data": [
        {
         "alignmentgroup": "True",
         "hovertemplate": "Region=%{x}<br>Ecological Balance (gha/person)=%{y}<extra></extra>",
         "legendgroup": "",
         "marker": {
          "color": "#636efa"
         },
         "name": "",
         "notched": false,
         "offsetgroup": "",
         "orientation": "v",
         "showlegend": false,
         "type": "box",
         "x": [
          "Unknown",
          "Unknown",
          "Unknown",
          "Unknown",
          "Unknown",
          "Unknown",
          "Unknown",
          "Unknown",
          "Unknown",
          "Unknown",
          "Unknown",
          "Unknown",
          "Unknown",
          "Unknown",
          "Unknown",
          "Unknown",
          "Unknown",
          "Unknown",
          "Unknown",
          "Unknown",
          "Unknown",
          "Unknown",
          "Unknown",
          "Unknown",
          "Unknown",
          "Unknown",
          "Unknown",
          "Unknown",
          "Unknown",
          "Unknown",
          "Asia",
          "Asia",
          "Unknown",
          "Asia",
          "Asia",
          "Unknown",
          "Asia",
          "Unknown",
          "Unknown",
          "Unknown",
          "Unknown",
          "Unknown",
          "Unknown",
          "Unknown",
          "Unknown",
          "Unknown",
          "Unknown",
          "Africa",
          "Unknown",
          "Unknown",
          "Unknown",
          "Unknown",
          "Oceania",
          "Unknown",
          "Unknown",
          "Unknown",
          "Unknown",
          "Unknown",
          "Unknown",
          "Unknown",
          "Unknown",
          "Unknown",
          "Unknown",
          "Africa",
          "Unknown",
          "Unknown",
          "Unknown",
          "Oceania",
          "Unknown",
          "Unknown",
          "Unknown",
          "Unknown",
          "Unknown",
          "Unknown",
          "Oceania",
          "Unknown",
          "South America",
          "Unknown",
          "Unknown",
          "Unknown",
          "Unknown",
          "Unknown",
          "Unknown",
          "Unknown",
          "Unknown",
          "Unknown",
          "Unknown",
          "Unknown",
          "Unknown",
          "Unknown",
          "Unknown",
          "Unknown",
          "Unknown",
          "Unknown",
          "Unknown",
          "Unknown",
          "Unknown",
          "Unknown",
          "Unknown",
          "Unknown",
          "Unknown",
          "Unknown",
          "Unknown",
          "Unknown",
          "Europe",
          "Unknown",
          "Africa",
          "Unknown",
          "Unknown",
          "Unknown",
          "Unknown",
          "Unknown",
          "Unknown",
          "Unknown",
          "Unknown",
          "Unknown",
          "Unknown",
          "Unknown",
          "Unknown",
          "Unknown",
          "Unknown",
          "Unknown",
          "Unknown",
          "Europe",
          "Unknown",
          "Unknown",
          "Unknown",
          "South America",
          "Unknown",
          "Unknown",
          "Unknown",
          "Unknown",
          "Unknown",
          "Unknown",
          "Unknown",
          "Unknown",
          "Unknown",
          "Unknown",
          "Unknown",
          "Unknown",
          "Unknown",
          "Unknown",
          "Unknown",
          "Unknown",
          "Unknown",
          "Asia",
          "Unknown",
          "Unknown",
          "Unknown",
          "North America",
          "Europe",
          "Europe",
          "Unknown",
          "Unknown",
          "South America",
          "South America",
          "Unknown",
          "Unknown",
          "Unknown",
          "Unknown",
          "Unknown",
          "Unknown",
          "Unknown",
          "Unknown",
          "Unknown",
          "Unknown",
          "South America",
          "Africa",
          "Unknown",
          "Unknown",
          "Unknown",
          "Unknown",
          "Unknown",
          "Unknown",
          "Unknown",
          "Unknown",
          "Unknown",
          "Unknown",
          "Unknown",
          "Unknown",
          "Unknown",
          "Unknown",
          "Unknown",
          "Unknown",
          "Unknown",
          "Unknown",
          "Unknown",
          "Unknown"
         ],
         "x0": " ",
         "xaxis": "x",
         "y": {
          "bdata": "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",
          "dtype": "f8"
         },
         "y0": " ",
         "yaxis": "y"
        }
       ],
       "layout": {
        "boxmode": "group",
        "legend": {
         "tracegroupgap": 0
        },
        "template": {
         "data": {
          "bar": [
           {
            "error_x": {
             "color": "#2a3f5f"
            },
            "error_y": {
             "color": "#2a3f5f"
            },
            "marker": {
             "line": {
              "color": "#E5ECF6",
              "width": 0.5
             },
             "pattern": {
              "fillmode": "overlay",
              "size": 10,
              "solidity": 0.2
             }
            },
            "type": "bar"
           }
          ],
          "barpolar": [
           {
            "marker": {
             "line": {
              "color": "#E5ECF6",
              "width": 0.5
             },
             "pattern": {
              "fillmode": "overlay",
              "size": 10,
              "solidity": 0.2
             }
            },
            "type": "barpolar"
           }
          ],
          "carpet": [
           {
            "aaxis": {
             "endlinecolor": "#2a3f5f",
             "gridcolor": "white",
             "linecolor": "white",
             "minorgridcolor": "white",
             "startlinecolor": "#2a3f5f"
            },
            "baxis": {
             "endlinecolor": "#2a3f5f",
             "gridcolor": "white",
             "linecolor": "white",
             "minorgridcolor": "white",
             "startlinecolor": "#2a3f5f"
            },
            "type": "carpet"
           }
          ],
          "choropleth": [
           {
            "colorbar": {
             "outlinewidth": 0,
             "ticks": ""
            },
            "type": "choropleth"
           }
          ],
          "contour": [
           {
            "colorbar": {
             "outlinewidth": 0,
             "ticks": ""
            },
            "colorscale": [
             [
              0,
              "#0d0887"
             ],
             [
              0.1111111111111111,
              "#46039f"
             ],
             [
              0.2222222222222222,
              "#7201a8"
             ],
             [
              0.3333333333333333,
              "#9c179e"
             ],
             [
              0.4444444444444444,
              "#bd3786"
             ],
             [
              0.5555555555555556,
              "#d8576b"
             ],
             [
              0.6666666666666666,
              "#ed7953"
             ],
             [
              0.7777777777777778,
              "#fb9f3a"
             ],
             [
              0.8888888888888888,
              "#fdca26"
             ],
             [
              1,
              "#f0f921"
             ]
            ],
            "type": "contour"
           }
          ],
          "contourcarpet": [
           {
            "colorbar": {
             "outlinewidth": 0,
             "ticks": ""
            },
            "type": "contourcarpet"
           }
          ],
          "heatmap": [
           {
            "colorbar": {
             "outlinewidth": 0,
             "ticks": ""
            },
            "colorscale": [
             [
              0,
              "#0d0887"
             ],
             [
              0.1111111111111111,
              "#46039f"
             ],
             [
              0.2222222222222222,
              "#7201a8"
             ],
             [
              0.3333333333333333,
              "#9c179e"
             ],
             [
              0.4444444444444444,
              "#bd3786"
             ],
             [
              0.5555555555555556,
              "#d8576b"
             ],
             [
              0.6666666666666666,
              "#ed7953"
             ],
             [
              0.7777777777777778,
              "#fb9f3a"
             ],
             [
              0.8888888888888888,
              "#fdca26"
             ],
             [
              1,
              "#f0f921"
             ]
            ],
            "type": "heatmap"
           }
          ],
          "histogram": [
           {
            "marker": {
             "pattern": {
              "fillmode": "overlay",
              "size": 10,
              "solidity": 0.2
             }
            },
            "type": "histogram"
           }
          ],
          "histogram2d": [
           {
            "colorbar": {
             "outlinewidth": 0,
             "ticks": ""
            },
            "colorscale": [
             [
              0,
              "#0d0887"
             ],
             [
              0.1111111111111111,
              "#46039f"
             ],
             [
              0.2222222222222222,
              "#7201a8"
             ],
             [
              0.3333333333333333,
              "#9c179e"
             ],
             [
              0.4444444444444444,
              "#bd3786"
             ],
             [
              0.5555555555555556,
              "#d8576b"
             ],
             [
              0.6666666666666666,
              "#ed7953"
             ],
             [
              0.7777777777777778,
              "#fb9f3a"
             ],
             [
              0.8888888888888888,
              "#fdca26"
             ],
             [
              1,
              "#f0f921"
             ]
            ],
            "type": "histogram2d"
           }
          ],
          "histogram2dcontour": [
           {
            "colorbar": {
             "outlinewidth": 0,
             "ticks": ""
            },
            "colorscale": [
             [
              0,
              "#0d0887"
             ],
             [
              0.1111111111111111,
              "#46039f"
             ],
             [
              0.2222222222222222,
              "#7201a8"
             ],
             [
              0.3333333333333333,
              "#9c179e"
             ],
             [
              0.4444444444444444,
              "#bd3786"
             ],
             [
              0.5555555555555556,
              "#d8576b"
             ],
             [
              0.6666666666666666,
              "#ed7953"
             ],
             [
              0.7777777777777778,
              "#fb9f3a"
             ],
             [
              0.8888888888888888,
              "#fdca26"
             ],
             [
              1,
              "#f0f921"
             ]
            ],
            "type": "histogram2dcontour"
           }
          ],
          "mesh3d": [
           {
            "colorbar": {
             "outlinewidth": 0,
             "ticks": ""
            },
            "type": "mesh3d"
           }
          ],
          "parcoords": [
           {
            "line": {
             "colorbar": {
              "outlinewidth": 0,
              "ticks": ""
             }
            },
            "type": "parcoords"
           }
          ],
          "pie": [
           {
            "automargin": true,
            "type": "pie"
           }
          ],
          "scatter": [
           {
            "fillpattern": {
             "fillmode": "overlay",
             "size": 10,
             "solidity": 0.2
            },
            "type": "scatter"
           }
          ],
          "scatter3d": [
           {
            "line": {
             "colorbar": {
              "outlinewidth": 0,
              "ticks": ""
             }
            },
            "marker": {
             "colorbar": {
              "outlinewidth": 0,
              "ticks": ""
             }
            },
            "type": "scatter3d"
           }
          ],
          "scattercarpet": [
           {
            "marker": {
             "colorbar": {
              "outlinewidth": 0,
              "ticks": ""
             }
            },
            "type": "scattercarpet"
           }
          ],
          "scattergeo": [
           {
            "marker": {
             "colorbar": {
              "outlinewidth": 0,
              "ticks": ""
             }
            },
            "type": "scattergeo"
           }
          ],
          "scattergl": [
           {
            "marker": {
             "colorbar": {
              "outlinewidth": 0,
              "ticks": ""
             }
            },
            "type": "scattergl"
           }
          ],
          "scattermap": [
           {
            "marker": {
             "colorbar": {
              "outlinewidth": 0,
              "ticks": ""
             }
            },
            "type": "scattermap"
           }
          ],
          "scattermapbox": [
           {
            "marker": {
             "colorbar": {
              "outlinewidth": 0,
              "ticks": ""
             }
            },
            "type": "scattermapbox"
           }
          ],
          "scatterpolar": [
           {
            "marker": {
             "colorbar": {
              "outlinewidth": 0,
              "ticks": ""
             }
            },
            "type": "scatterpolar"
           }
          ],
          "scatterpolargl": [
           {
            "marker": {
             "colorbar": {
              "outlinewidth": 0,
              "ticks": ""
             }
            },
            "type": "scatterpolargl"
           }
          ],
          "scatterternary": [
           {
            "marker": {
             "colorbar": {
              "outlinewidth": 0,
              "ticks": ""
             }
            },
            "type": "scatterternary"
           }
          ],
          "surface": [
           {
            "colorbar": {
             "outlinewidth": 0,
             "ticks": ""
            },
            "colorscale": [
             [
              0,
              "#0d0887"
             ],
             [
              0.1111111111111111,
              "#46039f"
             ],
             [
              0.2222222222222222,
              "#7201a8"
             ],
             [
              0.3333333333333333,
              "#9c179e"
             ],
             [
              0.4444444444444444,
              "#bd3786"
             ],
             [
              0.5555555555555556,
              "#d8576b"
             ],
             [
              0.6666666666666666,
              "#ed7953"
             ],
             [
              0.7777777777777778,
              "#fb9f3a"
             ],
             [
              0.8888888888888888,
              "#fdca26"
             ],
             [
              1,
              "#f0f921"
             ]
            ],
            "type": "surface"
           }
          ],
          "table": [
           {
            "cells": {
             "fill": {
              "color": "#EBF0F8"
             },
             "line": {
              "color": "white"
             }
            },
            "header": {
             "fill": {
              "color": "#C8D4E3"
             },
             "line": {
              "color": "white"
             }
            },
            "type": "table"
           }
          ]
         },
         "layout": {
          "annotationdefaults": {
           "arrowcolor": "#2a3f5f",
           "arrowhead": 0,
           "arrowwidth": 1
          },
          "autotypenumbers": "strict",
          "coloraxis": {
           "colorbar": {
            "outlinewidth": 0,
            "ticks": ""
           }
          },
          "colorscale": {
           "diverging": [
            [
             0,
             "#8e0152"
            ],
            [
             0.1,
             "#c51b7d"
            ],
            [
             0.2,
             "#de77ae"
            ],
            [
             0.3,
             "#f1b6da"
            ],
            [
             0.4,
             "#fde0ef"
            ],
            [
             0.5,
             "#f7f7f7"
            ],
            [
             0.6,
             "#e6f5d0"
            ],
            [
             0.7,
             "#b8e186"
            ],
            [
             0.8,
             "#7fbc41"
            ],
            [
             0.9,
             "#4d9221"
            ],
            [
             1,
             "#276419"
            ]
           ],
           "sequential": [
            [
             0,
             "#0d0887"
            ],
            [
             0.1111111111111111,
             "#46039f"
            ],
            [
             0.2222222222222222,
             "#7201a8"
            ],
            [
             0.3333333333333333,
             "#9c179e"
            ],
            [
             0.4444444444444444,
             "#bd3786"
            ],
            [
             0.5555555555555556,
             "#d8576b"
            ],
            [
             0.6666666666666666,
             "#ed7953"
            ],
            [
             0.7777777777777778,
             "#fb9f3a"
            ],
            [
             0.8888888888888888,
             "#fdca26"
            ],
            [
             1,
             "#f0f921"
            ]
           ],
           "sequentialminus": [
            [
             0,
             "#0d0887"
            ],
            [
             0.1111111111111111,
             "#46039f"
            ],
            [
             0.2222222222222222,
             "#7201a8"
            ],
            [
             0.3333333333333333,
             "#9c179e"
            ],
            [
             0.4444444444444444,
             "#bd3786"
            ],
            [
             0.5555555555555556,
             "#d8576b"
            ],
            [
             0.6666666666666666,
             "#ed7953"
            ],
            [
             0.7777777777777778,
             "#fb9f3a"
            ],
            [
             0.8888888888888888,
             "#fdca26"
            ],
            [
             1,
             "#f0f921"
            ]
           ]
          },
          "colorway": [
           "#636efa",
           "#EF553B",
           "#00cc96",
           "#ab63fa",
           "#FFA15A",
           "#19d3f3",
           "#FF6692",
           "#B6E880",
           "#FF97FF",
           "#FECB52"
          ],
          "font": {
           "color": "#2a3f5f"
          },
          "geo": {
           "bgcolor": "white",
           "lakecolor": "white",
           "landcolor": "#E5ECF6",
           "showlakes": true,
           "showland": true,
           "subunitcolor": "white"
          },
          "hoverlabel": {
           "align": "left"
          },
          "hovermode": "closest",
          "mapbox": {
           "style": "light"
          },
          "paper_bgcolor": "white",
          "plot_bgcolor": "#E5ECF6",
          "polar": {
           "angularaxis": {
            "gridcolor": "white",
            "linecolor": "white",
            "ticks": ""
           },
           "bgcolor": "#E5ECF6",
           "radialaxis": {
            "gridcolor": "white",
            "linecolor": "white",
            "ticks": ""
           }
          },
          "scene": {
           "xaxis": {
            "backgroundcolor": "#E5ECF6",
            "gridcolor": "white",
            "gridwidth": 2,
            "linecolor": "white",
            "showbackground": true,
            "ticks": "",
            "zerolinecolor": "white"
           },
           "yaxis": {
            "backgroundcolor": "#E5ECF6",
            "gridcolor": "white",
            "gridwidth": 2,
            "linecolor": "white",
            "showbackground": true,
            "ticks": "",
            "zerolinecolor": "white"
           },
           "zaxis": {
            "backgroundcolor": "#E5ECF6",
            "gridcolor": "white",
            "gridwidth": 2,
            "linecolor": "white",
            "showbackground": true,
            "ticks": "",
            "zerolinecolor": "white"
           }
          },
          "shapedefaults": {
           "line": {
            "color": "#2a3f5f"
           }
          },
          "ternary": {
           "aaxis": {
            "gridcolor": "white",
            "linecolor": "white",
            "ticks": ""
           },
           "baxis": {
            "gridcolor": "white",
            "linecolor": "white",
            "ticks": ""
           },
           "bgcolor": "#E5ECF6",
           "caxis": {
            "gridcolor": "white",
            "linecolor": "white",
            "ticks": ""
           }
          },
          "title": {
           "x": 0.05
          },
          "xaxis": {
           "automargin": true,
           "gridcolor": "white",
           "linecolor": "white",
           "ticks": "",
           "title": {
            "standoff": 15
           },
           "zerolinecolor": "white",
           "zerolinewidth": 2
          },
          "yaxis": {
           "automargin": true,
           "gridcolor": "white",
           "linecolor": "white",
           "ticks": "",
           "title": {
            "standoff": 15
           },
           "zerolinecolor": "white",
           "zerolinewidth": 2
          }
         }
        },
        "title": {
         "text": "Ecological Balance Distribution by Region"
        },
        "xaxis": {
         "anchor": "y",
         "domain": [
          0,
          1
         ],
         "title": {
          "text": "Region"
         }
        },
        "yaxis": {
         "anchor": "x",
         "domain": [
          0,
          1
         ],
         "title": {
          "text": "Ecological Balance (gha/person)"
         }
        }
       }
      },
      "image/png": "[encoded data removed]"
     },
     "metadata": {},
     "output_type": "display_data"
    },
    {
     "data": {
      "application/vnd.plotly.v1+json": {
       "config": {
        "plotlyServerURL": "https://plot.ly"
       },
       "data": [
        {
         "alignmentgroup": "True",
         "hovertemplate": "Income Group=%{x}<br>Ecological Balance (gha/person)=%{y}<extra></extra>",
         "legendgroup": "",
         "marker": {
          "color": "#636efa"
         },
         "name": "",
         "notched": false,
         "offsetgroup": "",
         "orientation": "v",
         "showlegend": false,
         "type": "box",
         "x": [
          "Unknown",
          "Unknown",
          "Unknown",
          "Unknown",
          "Unknown",
          "Unknown",
          "Unknown",
          "Unknown",
          "Unknown",
          "Unknown",
          "Unknown",
          "Unknown",
          "Unknown",
          "Unknown",
          "Unknown",
          "Unknown",
          "Unknown",
          "Unknown",
          "Unknown",
          "Unknown",
          "Unknown",
          "Unknown",
          "Unknown",
          "Unknown",
          "Unknown",
          "Unknown",
          "Unknown",
          "Unknown",
          "Unknown",
          "Unknown",
          "Lower Middle Income",
          "Lower Middle Income",
          "Unknown",
          "Lower Middle Income",
          "Unknown",
          "Unknown",
          "High Income",
          "Unknown",
          "Unknown",
          "Unknown",
          "Unknown",
          "Unknown",
          "Unknown",
          "Unknown",
          "Unknown",
          "Unknown",
          "Unknown",
          "Upper Middle Income",
          "Unknown",
          "Unknown",
          "Unknown",
          "Unknown",
          "High Income",
          "Unknown",
          "Unknown",
          "Unknown",
          "Unknown",
          "Unknown",
          "Unknown",
          "Unknown",
          "Unknown",
          "Unknown",
          "Unknown",
          "Low Income",
          "Unknown",
          "Unknown",
          "Unknown",
          "Unknown",
          "Unknown",
          "Unknown",
          "Unknown",
          "Unknown",
          "Unknown",
          "Unknown",
          "Unknown",
          "Unknown",
          "Upper Middle Income",
          "Unknown",
          "Unknown",
          "Unknown",
          "Unknown",
          "Unknown",
          "Unknown",
          "Unknown",
          "Unknown",
          "Unknown",
          "Unknown",
          "Unknown",
          "Unknown",
          "Unknown",
          "Unknown",
          "Unknown",
          "Unknown",
          "Unknown",
          "Unknown",
          "Unknown",
          "Unknown",
          "Unknown",
          "Unknown",
          "Unknown",
          "Unknown",
          "Unknown",
          "Unknown",
          "Unknown",
          "Unknown",
          "Unknown",
          "Unknown",
          "Unknown",
          "Unknown",
          "Unknown",
          "Unknown",
          "Unknown",
          "Unknown",
          "Unknown",
          "Unknown",
          "Unknown",
          "Unknown",
          "Unknown",
          "Unknown",
          "Unknown",
          "Unknown",
          "Unknown",
          "Unknown",
          "Unknown",
          "Unknown",
          "Unknown",
          "Unknown",
          "Unknown",
          "Unknown",
          "Unknown",
          "Unknown",
          "Unknown",
          "Unknown",
          "Unknown",
          "Unknown",
          "Unknown",
          "Unknown",
          "Unknown",
          "Unknown",
          "Unknown",
          "Unknown",
          "Unknown",
          "Unknown",
          "Unknown",
          "Unknown",
          "Upper Middle Income",
          "Unknown",
          "Unknown",
          "Unknown",
          "High Income",
          "Unknown",
          "High Income",
          "Unknown",
          "Unknown",
          "Unknown",
          "Upper Middle Income",
          "Unknown",
          "Unknown",
          "Unknown",
          "Unknown",
          "Unknown",
          "Unknown",
          "Unknown",
          "Unknown",
          "Unknown",
          "Unknown",
          "Lower Middle Income",
          "Low Income",
          "Unknown",
          "Unknown",
          "Unknown",
          "Unknown",
          "Unknown",
          "Unknown",
          "Unknown",
          "Unknown",
          "Unknown",
          "Unknown",
          "Unknown",
          "Unknown",
          "Unknown",
          "Unknown",
          "Unknown",
          "Unknown",
          "Unknown",
          "Unknown",
          "Unknown",
          "Unknown"
         ],
         "x0": " ",
         "xaxis": "x",
         "y": {
          "bdata": "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",
          "dtype": "f8"
         },
         "y0": " ",
         "yaxis": "y"
        }
       ],
       "layout": {
        "boxmode": "group",
        "legend": {
         "tracegroupgap": 0
        },
        "template": {
         "data": {
          "bar": [
           {
            "error_x": {
             "color": "#2a3f5f"
            },
            "error_y": {
             "color": "#2a3f5f"
            },
            "marker": {
             "line": {
              "color": "#E5ECF6",
              "width": 0.5
             },
             "pattern": {
              "fillmode": "overlay",
              "size": 10,
              "solidity": 0.2
             }
            },
            "type": "bar"
           }
          ],
          "barpolar": [
           {
            "marker": {
             "line": {
              "color": "#E5ECF6",
              "width": 0.5
             },
             "pattern": {
              "fillmode": "overlay",
              "size": 10,
              "solidity": 0.2
             }
            },
            "type": "barpolar"
           }
          ],
          "carpet": [
           {
            "aaxis": {
             "endlinecolor": "#2a3f5f",
             "gridcolor": "white",
             "linecolor": "white",
             "minorgridcolor": "white",
             "startlinecolor": "#2a3f5f"
            },
            "baxis": {
             "endlinecolor": "#2a3f5f",
             "gridcolor": "white",
             "linecolor": "white",
             "minorgridcolor": "white",
             "startlinecolor": "#2a3f5f"
            },
            "type": "carpet"
           }
          ],
          "choropleth": [
           {
            "colorbar": {
             "outlinewidth": 0,
             "ticks": ""
            },
            "type": "choropleth"
           }
          ],
          "contour": [
           {
            "colorbar": {
             "outlinewidth": 0,
             "ticks": ""
            },
            "colorscale": [
             [
              0,
              "#0d0887"
             ],
             [
              0.1111111111111111,
              "#46039f"
             ],
             [
              0.2222222222222222,
              "#7201a8"
             ],
             [
              0.3333333333333333,
              "#9c179e"
             ],
             [
              0.4444444444444444,
              "#bd3786"
             ],
             [
              0.5555555555555556,
              "#d8576b"
             ],
             [
              0.6666666666666666,
              "#ed7953"
             ],
             [
              0.7777777777777778,
              "#fb9f3a"
             ],
             [
              0.8888888888888888,
              "#fdca26"
             ],
             [
              1,
              "#f0f921"
             ]
            ],
            "type": "contour"
           }
          ],
          "contourcarpet": [
           {
            "colorbar": {
             "outlinewidth": 0,
             "ticks": ""
            },
            "type": "contourcarpet"
           }
          ],
          "heatmap": [
           {
            "colorbar": {
             "outlinewidth": 0,
             "ticks": ""
            },
            "colorscale": [
             [
              0,
              "#0d0887"
             ],
             [
              0.1111111111111111,
              "#46039f"
             ],
             [
              0.2222222222222222,
              "#7201a8"
             ],
             [
              0.3333333333333333,
              "#9c179e"
             ],
             [
              0.4444444444444444,
              "#bd3786"
             ],
             [
              0.5555555555555556,
              "#d8576b"
             ],
             [
              0.6666666666666666,
              "#ed7953"
             ],
             [
              0.7777777777777778,
              "#fb9f3a"
             ],
             [
              0.8888888888888888,
              "#fdca26"
             ],
             [
              1,
              "#f0f921"
             ]
            ],
            "type": "heatmap"
           }
          ],
          "histogram": [
           {
            "marker": {
             "pattern": {
              "fillmode": "overlay",
              "size": 10,
              "solidity": 0.2
             }
            },
            "type": "histogram"
           }
          ],
          "histogram2d": [
           {
            "colorbar": {
             "outlinewidth": 0,
             "ticks": ""
            },
            "colorscale": [
             [
              0,
              "#0d0887"
             ],
             [
              0.1111111111111111,
              "#46039f"
             ],
             [
              0.2222222222222222,
              "#7201a8"
             ],
             [
              0.3333333333333333,
              "#9c179e"
             ],
             [
              0.4444444444444444,
              "#bd3786"
             ],
             [
              0.5555555555555556,
              "#d8576b"
             ],
             [
              0.6666666666666666,
              "#ed7953"
             ],
             [
              0.7777777777777778,
              "#fb9f3a"
             ],
             [
              0.8888888888888888,
              "#fdca26"
             ],
             [
              1,
              "#f0f921"
             ]
            ],
            "type": "histogram2d"
           }
          ],
          "histogram2dcontour": [
           {
            "colorbar": {
             "outlinewidth": 0,
             "ticks": ""
            },
            "colorscale": [
             [
              0,
              "#0d0887"
             ],
             [
              0.1111111111111111,
              "#46039f"
             ],
             [
              0.2222222222222222,
              "#7201a8"
             ],
             [
              0.3333333333333333,
              "#9c179e"
             ],
             [
              0.4444444444444444,
              "#bd3786"
             ],
             [
              0.5555555555555556,
              "#d8576b"
             ],
             [
              0.6666666666666666,
              "#ed7953"
             ],
             [
              0.7777777777777778,
              "#fb9f3a"
             ],
             [
              0.8888888888888888,
              "#fdca26"
             ],
             [
              1,
              "#f0f921"
             ]
            ],
            "type": "histogram2dcontour"
           }
          ],
          "mesh3d": [
           {
            "colorbar": {
             "outlinewidth": 0,
             "ticks": ""
            },
            "type": "mesh3d"
           }
          ],
          "parcoords": [
           {
            "line": {
             "colorbar": {
              "outlinewidth": 0,
              "ticks": ""
             }
            },
            "type": "parcoords"
           }
          ],
          "pie": [
           {
            "automargin": true,
            "type": "pie"
           }
          ],
          "scatter": [
           {
            "fillpattern": {
             "fillmode": "overlay",
             "size": 10,
             "solidity": 0.2
            },
            "type": "scatter"
           }
          ],
          "scatter3d": [
           {
            "line": {
             "colorbar": {
              "outlinewidth": 0,
              "ticks": ""
             }
            },
            "marker": {
             "colorbar": {
              "outlinewidth": 0,
              "ticks": ""
             }
            },
            "type": "scatter3d"
           }
          ],
          "scattercarpet": [
           {
            "marker": {
             "colorbar": {
              "outlinewidth": 0,
              "ticks": ""
             }
            },
            "type": "scattercarpet"
           }
          ],
          "scattergeo": [
           {
            "marker": {
             "colorbar": {
              "outlinewidth": 0,
              "ticks": ""
             }
            },
            "type": "scattergeo"
           }
          ],
          "scattergl": [
           {
            "marker": {
             "colorbar": {
              "outlinewidth": 0,
              "ticks": ""
             }
            },
            "type": "scattergl"
           }
          ],
          "scattermap": [
           {
            "marker": {
             "colorbar": {
              "outlinewidth": 0,
              "ticks": ""
             }
            },
            "type": "scattermap"
           }
          ],
          "scattermapbox": [
           {
            "marker": {
             "colorbar": {
              "outlinewidth": 0,
              "ticks": ""
             }
            },
            "type": "scattermapbox"
           }
          ],
          "scatterpolar": [
           {
            "marker": {
             "colorbar": {
              "outlinewidth": 0,
              "ticks": ""
             }
            },
            "type": "scatterpolar"
           }
          ],
          "scatterpolargl": [
           {
            "marker": {
             "colorbar": {
              "outlinewidth": 0,
              "ticks": ""
             }
            },
            "type": "scatterpolargl"
           }
          ],
          "scatterternary": [
           {
            "marker": {
             "colorbar": {
              "outlinewidth": 0,
              "ticks": ""
             }
            },
            "type": "scatterternary"
           }
          ],
          "surface": [
           {
            "colorbar": {
             "outlinewidth": 0,
             "ticks": ""
            },
            "colorscale": [
             [
              0,
              "#0d0887"
             ],
             [
              0.1111111111111111,
              "#46039f"
             ],
             [
              0.2222222222222222,
              "#7201a8"
             ],
             [
              0.3333333333333333,
              "#9c179e"
             ],
             [
              0.4444444444444444,
              "#bd3786"
             ],
             [
              0.5555555555555556,
              "#d8576b"
             ],
             [
              0.6666666666666666,
              "#ed7953"
             ],
             [
              0.7777777777777778,
              "#fb9f3a"
             ],
             [
              0.8888888888888888,
              "#fdca26"
             ],
             [
              1,
              "#f0f921"
             ]
            ],
            "type": "surface"
           }
          ],
          "table": [
           {
            "cells": {
             "fill": {
              "color": "#EBF0F8"
             },
             "line": {
              "color": "white"
             }
            },
            "header": {
             "fill": {
              "color": "#C8D4E3"
             },
             "line": {
              "color": "white"
             }
            },
            "type": "table"
           }
          ]
         },
         "layout": {
          "annotationdefaults": {
           "arrowcolor": "#2a3f5f",
           "arrowhead": 0,
           "arrowwidth": 1
          },
          "autotypenumbers": "strict",
          "coloraxis": {
           "colorbar": {
            "outlinewidth": 0,
            "ticks": ""
           }
          },
          "colorscale": {
           "diverging": [
            [
             0,
             "#8e0152"
            ],
            [
             0.1,
             "#c51b7d"
            ],
            [
             0.2,
             "#de77ae"
            ],
            [
             0.3,
             "#f1b6da"
            ],
            [
             0.4,
             "#fde0ef"
            ],
            [
             0.5,
             "#f7f7f7"
            ],
            [
             0.6,
             "#e6f5d0"
            ],
            [
             0.7,
             "#b8e186"
            ],
            [
             0.8,
             "#7fbc41"
            ],
            [
             0.9,
             "#4d9221"
            ],
            [
             1,
             "#276419"
            ]
           ],
           "sequential": [
            [
             0,
             "#0d0887"
            ],
            [
             0.1111111111111111,
             "#46039f"
            ],
            [
             0.2222222222222222,
             "#7201a8"
            ],
            [
             0.3333333333333333,
             "#9c179e"
            ],
            [
             0.4444444444444444,
             "#bd3786"
            ],
            [
             0.5555555555555556,
             "#d8576b"
            ],
            [
             0.6666666666666666,
             "#ed7953"
            ],
            [
             0.7777777777777778,
             "#fb9f3a"
            ],
            [
             0.8888888888888888,
             "#fdca26"
            ],
            [
             1,
             "#f0f921"
            ]
           ],
           "sequentialminus": [
            [
             0,
             "#0d0887"
            ],
            [
             0.1111111111111111,
             "#46039f"
            ],
            [
             0.2222222222222222,
             "#7201a8"
            ],
            [
             0.3333333333333333,
             "#9c179e"
            ],
            [
             0.4444444444444444,
             "#bd3786"
            ],
            [
             0.5555555555555556,
             "#d8576b"
            ],
            [
             0.6666666666666666,
             "#ed7953"
            ],
            [
             0.7777777777777778,
             "#fb9f3a"
            ],
            [
             0.8888888888888888,
             "#fdca26"
            ],
            [
             1,
             "#f0f921"
            ]
           ]
          },
          "colorway": [
           "#636efa",
           "#EF553B",
           "#00cc96",
           "#ab63fa",
           "#FFA15A",
           "#19d3f3",
           "#FF6692",
           "#B6E880",
           "#FF97FF",
           "#FECB52"
          ],
          "font": {
           "color": "#2a3f5f"
          },
          "geo": {
           "bgcolor": "white",
           "lakecolor": "white",
           "landcolor": "#E5ECF6",
           "showlakes": true,
           "showland": true,
           "subunitcolor": "white"
          },
          "hoverlabel": {
           "align": "left"
          },
          "hovermode": "closest",
          "mapbox": {
           "style": "light"
          },
          "paper_bgcolor": "white",
          "plot_bgcolor": "#E5ECF6",
          "polar": {
           "angularaxis": {
            "gridcolor": "white",
            "linecolor": "white",
            "ticks": ""
           },
           "bgcolor": "#E5ECF6",
           "radialaxis": {
            "gridcolor": "white",
            "linecolor": "white",
            "ticks": ""
           }
          },
          "scene": {
           "xaxis": {
            "backgroundcolor": "#E5ECF6",
            "gridcolor": "white",
            "gridwidth": 2,
            "linecolor": "white",
            "showbackground": true,
            "ticks": "",
            "zerolinecolor": "white"
           },
           "yaxis": {
            "backgroundcolor": "#E5ECF6",
            "gridcolor": "white",
            "gridwidth": 2,
            "linecolor": "white",
            "showbackground": true,
            "ticks": "",
            "zerolinecolor": "white"
           },
           "zaxis": {
            "backgroundcolor": "#E5ECF6",
            "gridcolor": "white",
            "gridwidth": 2,
            "linecolor": "white",
            "showbackground": true,
            "ticks": "",
            "zerolinecolor": "white"
           }
          },
          "shapedefaults": {
           "line": {
            "color": "#2a3f5f"
           }
          },
          "ternary": {
           "aaxis": {
            "gridcolor": "white",
            "linecolor": "white",
            "ticks": ""
           },
           "baxis": {
            "gridcolor": "white",
            "linecolor": "white",
            "ticks": ""
           },
           "bgcolor": "#E5ECF6",
           "caxis": {
            "gridcolor": "white",
            "linecolor": "white",
            "ticks": ""
           }
          },
          "title": {
           "x": 0.05
          },
          "xaxis": {
           "automargin": true,
           "gridcolor": "white",
           "linecolor": "white",
           "ticks": "",
           "title": {
            "standoff": 15
           },
           "zerolinecolor": "white",
           "zerolinewidth": 2
          },
          "yaxis": {
           "automargin": true,
           "gridcolor": "white",
           "linecolor": "white",
           "ticks": "",
           "title": {
            "standoff": 15
           },
           "zerolinecolor": "white",
           "zerolinewidth": 2
          }
         }
        },
        "title": {
         "text": "Ecological Balance Distribution by Income Group"
        },
        "xaxis": {
         "anchor": "y",
         "domain": [
          0,
          1
         ],
         "title": {
          "text": "Income Group"
         }
        },
        "yaxis": {
         "anchor": "x",
         "domain": [
          0,
          1
         ],
         "title": {
          "text": "Ecological Balance (gha/person)"
         }
        }
       }
      },
      "image/png": "[encoded data removed]"
     },
     "metadata": {},
     "output_type": "display_data"
    }
   ],
   "source": [
    "# Ecological Balance Analysis\n",
    "print(\"Top 10 Countries with Largest Ecological Reserve:\")\n",
    "top_reserve = ecological_balance.sort_values('ecological_balance', ascending=False).head(10)\n",
    "display(top_reserve[['country_name', 'region', 'income_group', 'biocapacity', 'footprint', 'ecological_balance']])\n",
    "\n",
    "print(\"\\nTop 10 Countries with Largest Ecological Deficit:\")\n",
    "top_deficit = ecological_balance.sort_values('ecological_balance').head(10)\n",
    "display(top_deficit[['country_name', 'region', 'income_group', 'biocapacity', 'footprint', 'ecological_balance']])\n",
    "\n",
    "# Create interactive bar chart with Plotly\n",
    "fig = px.bar(\n",
    "    top_reserve, \n",
    "    x='country_name', \n",
    "    y='ecological_balance',\n",
    "    color='region',\n",
    "    title='Top 10 Countries with Largest Ecological Reserve',\n",
    "    labels={'country_name': 'Country', 'ecological_balance': 'Ecological Balance (gha/person)'},\n",
    "    hover_data=['biocapacity', 'footprint']\n",
    ")\n",
    "fig.update_layout(height=500)\n",
    "fig.show()\n",
    "\n",
    "fig = px.bar(\n",
    "    top_deficit, \n",
    "    x='country_name', \n",
    "    y='ecological_balance',\n",
    "    color='region',\n",
    "    title='Top 10 Countries with Largest Ecological Deficit',\n",
    "    labels={'country_name': 'Country', 'ecological_balance': 'Ecological Balance (gha/person)'},\n",
    "    hover_data=['biocapacity', 'footprint']\n",
    ")\n",
    "fig.update_layout(height=500)\n",
    "fig.show()\n",
    "\n",
    "# Boxplot of ecological balance by region\n",
    "fig = px.box(\n",
    "    ecological_balance, \n",
    "    x='region', \n",
    "    y='ecological_balance',\n",
    "    title='Ecological Balance Distribution by Region',\n",
    "    labels={'region': 'Region', 'ecological_balance': 'Ecological Balance (gha/person)'}\n",
    ")\n",
    "fig.show()\n",
    "\n",
    "# Boxplot of ecological balance by income group\n",
    "fig = px.box(\n",
    "    ecological_balance, \n",
    "    x='income_group', \n",
    "    y='ecological_balance',\n",
    "    title='Ecological Balance Distribution by Income Group',\n",
    "    labels={'income_group': 'Income Group', 'ecological_balance': 'Ecological Balance (gha/person)'}\n",
    ")\n",
    "fig.show()"
   ]
  },
  {
   "cell_type": "code",
   "execution_count": null,
   "id": "ebeaa44a-1710-44db-b9ce-351b196f26d9",
   "metadata": {},
   "outputs": [],
   "source": []
  }
 ],
 "metadata": {
  "kernelspec": {
   "display_name": "Python 3 (ipykernel)",
   "language": "python",
   "name": "python3"
  },
  "language_info": {
   "codemirror_mode": {
    "name": "ipython",
    "version": 3
   },
   "file_extension": ".py",
   "mimetype": "text/x-python",
   "name": "python",
   "nbconvert_exporter": "python",
   "pygments_lexer": "ipython3",
   "version": "3.11.4"
  }
 },
 "nbformat": 4,
 "nbformat_minor": 5
}
